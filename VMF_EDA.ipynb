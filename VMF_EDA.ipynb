{
 "cells": [
  {
   "cell_type": "markdown",
   "metadata": {},
   "source": [
    "# Vendor Masterfile EDA \n",
    "\n",
    "The vendor master file (VMF) is the repository of a considerable amount of information about a company's suppliers, which are used for the payment of supplier invoices and the issuance of purchase orders. Thorough analysis of VMF anomalies and tracing these anomalies to different data sources could reveal potential irregularities and fraudulent transactions.\n",
    "\n",
    "This is a continuation of a [project](https://github.com/AmMoPy/VMF_ATP) I concluded earlier; the project was focused on creating a script to automate some audit test procedures and highlight irregularities in the underlying datasets to guide sampling and further analysis of these irregularities.\n",
    "\n",
    "Underlying mock data sources are [Cagy](https://www.cagy.org/test-data-generator/?) and [Mockaroo](https://www.mockaroo.com/), manipulated to reflect real world examples. All simulated irregularities were actually driven from previous audits that I’ve performed."
   ]
  },
  {
   "cell_type": "code",
   "execution_count": 180,
   "metadata": {},
   "outputs": [],
   "source": [
    "# import all packages and set plots to be embedded inline\n",
    "import numpy as np\n",
    "import pandas as pd\n",
    "import matplotlib.pyplot as plt\n",
    "import seaborn as sb\n",
    "import tfidf_matcher as tm\n",
    "import datetime as dt\n",
    "import time\n",
    "import calendar\n",
    "from difflib import SequenceMatcher\n",
    "\n",
    "%matplotlib inline"
   ]
  },
  {
   "cell_type": "code",
   "execution_count": 181,
   "metadata": {},
   "outputs": [],
   "source": [
    "# Load data\n",
    "\n",
    "vmf_df= pd.read_csv('VMF_vendor_list.csv', sep='\\t', encoding='utf-16')\n",
    "access_rights_df = pd.read_csv('VMF_access_rights.csv', sep='\\t', encoding='utf-16').dropna(how='all')\n",
    "employees_df = pd.read_csv('VMF_employee_list.csv', sep='\\t', encoding='utf-16').dropna(how='all')\n",
    "terminated_employees_df = pd.read_csv('VMF_terminated_employees.csv', sep='\\t', encoding='utf-16').dropna(how='all')\n",
    "po_df = pd.read_csv('VMF_po_list.csv', sep='\\t', encoding='utf-16').dropna(how='all')"
   ]
  },
  {
   "cell_type": "code",
   "execution_count": 182,
   "metadata": {},
   "outputs": [],
   "source": [
    "# Applying proper dtypes\n",
    "\n",
    "vmf_df.name = vmf_df.name.astype(str)\n",
    "vmf_df.creation_date = pd.to_datetime(vmf_df.creation_date)\n",
    "vmf_df.modification_date = pd.to_datetime(vmf_df.modification_date)\n",
    "\n",
    "employees_df.employee_name = employees_df.employee_name.astype(str)\n",
    "employees_df.hiring_date = pd.to_datetime(employees_df.hiring_date)\n",
    "\n",
    "terminated_employees_df.employee_name = terminated_employees_df.employee_name.astype(str)\n",
    "terminated_employees_df.hiring_date = pd.to_datetime(terminated_employees_df.hiring_date)\n",
    "terminated_employees_df.termination_date = pd.to_datetime(terminated_employees_df.termination_date)\n",
    "\n",
    "po_df.po_date = pd.to_datetime(po_df.po_date)\n",
    "po_df.po_total = po_df.po_total.str.replace(',', '').astype(int)"
   ]
  },
  {
   "cell_type": "code",
   "execution_count": 183,
   "metadata": {},
   "outputs": [
    {
     "data": {
      "text/plain": [
       "((1000, 13), (7, 3), (1000, 8), (1000, 10), (1000, 9))"
      ]
     },
     "execution_count": 183,
     "metadata": {},
     "output_type": "execute_result"
    }
   ],
   "source": [
    "# Inspect Data\n",
    "vmf_df.shape, access_rights_df.shape, employees_df.shape, terminated_employees_df.shape, po_df.shape"
   ]
  },
  {
   "cell_type": "code",
   "execution_count": 184,
   "metadata": {},
   "outputs": [
    {
     "data": {
      "text/html": [
       "<div>\n",
       "<style scoped>\n",
       "    .dataframe tbody tr th:only-of-type {\n",
       "        vertical-align: middle;\n",
       "    }\n",
       "\n",
       "    .dataframe tbody tr th {\n",
       "        vertical-align: top;\n",
       "    }\n",
       "\n",
       "    .dataframe thead th {\n",
       "        text-align: right;\n",
       "    }\n",
       "</style>\n",
       "<table border=\"1\" class=\"dataframe\">\n",
       "  <thead>\n",
       "    <tr style=\"text-align: right;\">\n",
       "      <th></th>\n",
       "      <th>id</th>\n",
       "      <th>name</th>\n",
       "      <th>vendor_status</th>\n",
       "      <th>contact_name</th>\n",
       "      <th>payment_terms</th>\n",
       "      <th>phone</th>\n",
       "      <th>postal_code</th>\n",
       "      <th>address</th>\n",
       "      <th>taxpayer_identification_number_tin</th>\n",
       "      <th>creation_date</th>\n",
       "      <th>creation_user_id</th>\n",
       "      <th>modification_date</th>\n",
       "      <th>modification_user_id</th>\n",
       "    </tr>\n",
       "  </thead>\n",
       "  <tbody>\n",
       "    <tr>\n",
       "      <th>127</th>\n",
       "      <td>100128</td>\n",
       "      <td>Moen, Crona and O'Kon</td>\n",
       "      <td>Active</td>\n",
       "      <td>Isabella Strafford</td>\n",
       "      <td>n/30</td>\n",
       "      <td>160-957-9442</td>\n",
       "      <td>NaN</td>\n",
       "      <td>4 Graedel Road</td>\n",
       "      <td>NaN</td>\n",
       "      <td>2000-12-02 00:17:00</td>\n",
       "      <td>7752282</td>\n",
       "      <td>2005-10-27 17:39:00</td>\n",
       "      <td>8257920</td>\n",
       "    </tr>\n",
       "    <tr>\n",
       "      <th>389</th>\n",
       "      <td>100390</td>\n",
       "      <td>Rohan and Sons</td>\n",
       "      <td>Active</td>\n",
       "      <td>Garald Tewkesbury</td>\n",
       "      <td>n/30</td>\n",
       "      <td>415-815-4342</td>\n",
       "      <td>353254</td>\n",
       "      <td>4126 Raven Plaza</td>\n",
       "      <td>58-5379072</td>\n",
       "      <td>2001-11-11 03:41:00</td>\n",
       "      <td>8414231</td>\n",
       "      <td>2005-11-01 20:50:00</td>\n",
       "      <td>3069271</td>\n",
       "    </tr>\n",
       "  </tbody>\n",
       "</table>\n",
       "</div>"
      ],
      "text/plain": [
       "         id                   name vendor_status        contact_name  \\\n",
       "127  100128  Moen, Crona and O'Kon        Active  Isabella Strafford   \n",
       "389  100390         Rohan and Sons        Active   Garald Tewkesbury   \n",
       "\n",
       "    payment_terms         phone postal_code           address  \\\n",
       "127          n/30  160-957-9442         NaN    4 Graedel Road   \n",
       "389          n/30  415-815-4342      353254  4126 Raven Plaza   \n",
       "\n",
       "    taxpayer_identification_number_tin       creation_date  creation_user_id  \\\n",
       "127                                NaN 2000-12-02 00:17:00           7752282   \n",
       "389                         58-5379072 2001-11-11 03:41:00           8414231   \n",
       "\n",
       "      modification_date  modification_user_id  \n",
       "127 2005-10-27 17:39:00               8257920  \n",
       "389 2005-11-01 20:50:00               3069271  "
      ]
     },
     "execution_count": 184,
     "metadata": {},
     "output_type": "execute_result"
    }
   ],
   "source": [
    "vmf_df.sample(2)"
   ]
  },
  {
   "cell_type": "code",
   "execution_count": 185,
   "metadata": {},
   "outputs": [
    {
     "data": {
      "text/html": [
       "<div>\n",
       "<style scoped>\n",
       "    .dataframe tbody tr th:only-of-type {\n",
       "        vertical-align: middle;\n",
       "    }\n",
       "\n",
       "    .dataframe tbody tr th {\n",
       "        vertical-align: top;\n",
       "    }\n",
       "\n",
       "    .dataframe thead th {\n",
       "        text-align: right;\n",
       "    }\n",
       "</style>\n",
       "<table border=\"1\" class=\"dataframe\">\n",
       "  <thead>\n",
       "    <tr style=\"text-align: right;\">\n",
       "      <th></th>\n",
       "      <th>creation_user_id</th>\n",
       "      <th>modification_user_id</th>\n",
       "      <th>departement</th>\n",
       "    </tr>\n",
       "  </thead>\n",
       "  <tbody>\n",
       "    <tr>\n",
       "      <th>4</th>\n",
       "      <td>8414231</td>\n",
       "      <td>3069271</td>\n",
       "      <td>Procurement</td>\n",
       "    </tr>\n",
       "    <tr>\n",
       "      <th>3</th>\n",
       "      <td>8264315</td>\n",
       "      <td>3709196</td>\n",
       "      <td>Procurement</td>\n",
       "    </tr>\n",
       "  </tbody>\n",
       "</table>\n",
       "</div>"
      ],
      "text/plain": [
       "   creation_user_id  modification_user_id  departement\n",
       "4           8414231               3069271  Procurement\n",
       "3           8264315               3709196  Procurement"
      ]
     },
     "execution_count": 185,
     "metadata": {},
     "output_type": "execute_result"
    }
   ],
   "source": [
    "access_rights_df.sample(2)"
   ]
  },
  {
   "cell_type": "code",
   "execution_count": 186,
   "metadata": {},
   "outputs": [
    {
     "data": {
      "text/html": [
       "<div>\n",
       "<style scoped>\n",
       "    .dataframe tbody tr th:only-of-type {\n",
       "        vertical-align: middle;\n",
       "    }\n",
       "\n",
       "    .dataframe tbody tr th {\n",
       "        vertical-align: top;\n",
       "    }\n",
       "\n",
       "    .dataframe thead th {\n",
       "        text-align: right;\n",
       "    }\n",
       "</style>\n",
       "<table border=\"1\" class=\"dataframe\">\n",
       "  <thead>\n",
       "    <tr style=\"text-align: right;\">\n",
       "      <th></th>\n",
       "      <th>employee_id</th>\n",
       "      <th>employee_name</th>\n",
       "      <th>hiring_date</th>\n",
       "      <th>departement</th>\n",
       "      <th>phone</th>\n",
       "      <th>postal_code</th>\n",
       "      <th>address</th>\n",
       "      <th>social_security_number_ssn</th>\n",
       "    </tr>\n",
       "  </thead>\n",
       "  <tbody>\n",
       "    <tr>\n",
       "      <th>350</th>\n",
       "      <td>8496488</td>\n",
       "      <td>Malissia Bucklee</td>\n",
       "      <td>2015-12-27</td>\n",
       "      <td>Human Resources</td>\n",
       "      <td>198-312-3340</td>\n",
       "      <td>734 24</td>\n",
       "      <td>12632 Autumn Leaf Plaza</td>\n",
       "      <td>815-93-0092</td>\n",
       "    </tr>\n",
       "    <tr>\n",
       "      <th>442</th>\n",
       "      <td>2947376</td>\n",
       "      <td>Chen Pietesch</td>\n",
       "      <td>2009-06-24</td>\n",
       "      <td>Research and Development</td>\n",
       "      <td>415-258-1834</td>\n",
       "      <td>94121</td>\n",
       "      <td>42 Delladonna Road</td>\n",
       "      <td>393-03-4321</td>\n",
       "    </tr>\n",
       "  </tbody>\n",
       "</table>\n",
       "</div>"
      ],
      "text/plain": [
       "     employee_id     employee_name hiring_date               departement  \\\n",
       "350      8496488  Malissia Bucklee  2015-12-27           Human Resources   \n",
       "442      2947376     Chen Pietesch  2009-06-24  Research and Development   \n",
       "\n",
       "            phone postal_code                  address  \\\n",
       "350  198-312-3340      734 24  12632 Autumn Leaf Plaza   \n",
       "442  415-258-1834       94121       42 Delladonna Road   \n",
       "\n",
       "    social_security_number_ssn  \n",
       "350                815-93-0092  \n",
       "442                393-03-4321  "
      ]
     },
     "execution_count": 186,
     "metadata": {},
     "output_type": "execute_result"
    }
   ],
   "source": [
    "employees_df.sample(2)"
   ]
  },
  {
   "cell_type": "code",
   "execution_count": 187,
   "metadata": {},
   "outputs": [
    {
     "data": {
      "text/html": [
       "<div>\n",
       "<style scoped>\n",
       "    .dataframe tbody tr th:only-of-type {\n",
       "        vertical-align: middle;\n",
       "    }\n",
       "\n",
       "    .dataframe tbody tr th {\n",
       "        vertical-align: top;\n",
       "    }\n",
       "\n",
       "    .dataframe thead th {\n",
       "        text-align: right;\n",
       "    }\n",
       "</style>\n",
       "<table border=\"1\" class=\"dataframe\">\n",
       "  <thead>\n",
       "    <tr style=\"text-align: right;\">\n",
       "      <th></th>\n",
       "      <th>employee_id</th>\n",
       "      <th>employee_name</th>\n",
       "      <th>hiring_date</th>\n",
       "      <th>termination_date</th>\n",
       "      <th>termination_reason</th>\n",
       "      <th>departement</th>\n",
       "      <th>phone</th>\n",
       "      <th>postal_code</th>\n",
       "      <th>address</th>\n",
       "      <th>social_security_number_ssn</th>\n",
       "    </tr>\n",
       "  </thead>\n",
       "  <tbody>\n",
       "    <tr>\n",
       "      <th>745</th>\n",
       "      <td>479841</td>\n",
       "      <td>Rudolfo Harse</td>\n",
       "      <td>2012-04-24</td>\n",
       "      <td>2021-10-27</td>\n",
       "      <td>Irresestable</td>\n",
       "      <td>Services</td>\n",
       "      <td>894-727-8832</td>\n",
       "      <td>NaN</td>\n",
       "      <td>2 Upham Alley</td>\n",
       "      <td>831-43-7547</td>\n",
       "    </tr>\n",
       "    <tr>\n",
       "      <th>768</th>\n",
       "      <td>9022631</td>\n",
       "      <td>Elfrida Blaasch</td>\n",
       "      <td>2008-06-18</td>\n",
       "      <td>2021-10-27</td>\n",
       "      <td>Resignation</td>\n",
       "      <td>Engineering</td>\n",
       "      <td>191-307-9719</td>\n",
       "      <td>NaN</td>\n",
       "      <td>30 Di Loreto Point</td>\n",
       "      <td>116-18-8602</td>\n",
       "    </tr>\n",
       "  </tbody>\n",
       "</table>\n",
       "</div>"
      ],
      "text/plain": [
       "     employee_id    employee_name hiring_date termination_date  \\\n",
       "745       479841    Rudolfo Harse  2012-04-24       2021-10-27   \n",
       "768      9022631  Elfrida Blaasch  2008-06-18       2021-10-27   \n",
       "\n",
       "    termination_reason  departement         phone postal_code  \\\n",
       "745       Irresestable     Services  894-727-8832         NaN   \n",
       "768        Resignation  Engineering  191-307-9719         NaN   \n",
       "\n",
       "                address social_security_number_ssn  \n",
       "745       2 Upham Alley                831-43-7547  \n",
       "768  30 Di Loreto Point                116-18-8602  "
      ]
     },
     "execution_count": 187,
     "metadata": {},
     "output_type": "execute_result"
    }
   ],
   "source": [
    "terminated_employees_df.sample(2)"
   ]
  },
  {
   "cell_type": "code",
   "execution_count": 188,
   "metadata": {},
   "outputs": [
    {
     "data": {
      "text/html": [
       "<div>\n",
       "<style scoped>\n",
       "    .dataframe tbody tr th:only-of-type {\n",
       "        vertical-align: middle;\n",
       "    }\n",
       "\n",
       "    .dataframe tbody tr th {\n",
       "        vertical-align: top;\n",
       "    }\n",
       "\n",
       "    .dataframe thead th {\n",
       "        text-align: right;\n",
       "    }\n",
       "</style>\n",
       "<table border=\"1\" class=\"dataframe\">\n",
       "  <thead>\n",
       "    <tr style=\"text-align: right;\">\n",
       "      <th></th>\n",
       "      <th>po_number</th>\n",
       "      <th>po_approval_status</th>\n",
       "      <th>po_status</th>\n",
       "      <th>po_date</th>\n",
       "      <th>item_description</th>\n",
       "      <th>vendor_name</th>\n",
       "      <th>total_quantity</th>\n",
       "      <th>currency</th>\n",
       "      <th>po_total</th>\n",
       "    </tr>\n",
       "  </thead>\n",
       "  <tbody>\n",
       "    <tr>\n",
       "      <th>863</th>\n",
       "      <td>85702</td>\n",
       "      <td>Approved</td>\n",
       "      <td>Closed</td>\n",
       "      <td>2019-12-08</td>\n",
       "      <td>Beef - Roasted, Cooked</td>\n",
       "      <td>Ortiz Inc</td>\n",
       "      <td>20.0</td>\n",
       "      <td>EUR</td>\n",
       "      <td>381690</td>\n",
       "    </tr>\n",
       "    <tr>\n",
       "      <th>434</th>\n",
       "      <td>40694</td>\n",
       "      <td>Approved</td>\n",
       "      <td>Closed</td>\n",
       "      <td>2019-03-25</td>\n",
       "      <td>Crush - Grape, 355 Ml</td>\n",
       "      <td>Thiel-Labadie</td>\n",
       "      <td>18.0</td>\n",
       "      <td>EUR</td>\n",
       "      <td>765519</td>\n",
       "    </tr>\n",
       "  </tbody>\n",
       "</table>\n",
       "</div>"
      ],
      "text/plain": [
       "     po_number po_approval_status po_status    po_date  \\\n",
       "863      85702           Approved    Closed 2019-12-08   \n",
       "434      40694           Approved    Closed 2019-03-25   \n",
       "\n",
       "           item_description    vendor_name  total_quantity currency  po_total  \n",
       "863  Beef - Roasted, Cooked      Ortiz Inc            20.0      EUR    381690  \n",
       "434   Crush - Grape, 355 Ml  Thiel-Labadie            18.0      EUR    765519  "
      ]
     },
     "execution_count": 188,
     "metadata": {},
     "output_type": "execute_result"
    }
   ],
   "source": [
    "po_df.sample(2)"
   ]
  },
  {
   "cell_type": "markdown",
   "metadata": {},
   "source": [
    "### Structure of the dataset:\n",
    "\n",
    "There are 5 independent datasets as follows:\n",
    " - Vendor master file: Details of each vendor (ID, name, contact person, tax number, phone, address, etc...) and details about record creation and modification (creation/modification user ID and date)\n",
    " - Access rights: details (ID and department) of authorized personnel to create/modify vendor records\n",
    " - Active employees: details of active employees (name, ID, hiring date, department, etc...)\n",
    " - Terminated employees: details of terminated employees (name, ID, termination date, department, etc...)\n",
    " - Purchase Order (PO): details of POs for a given period (status, date, amount, item description, value, vendor, etc...)\n",
    " \n",
    "### How do all these datasets link together?\n",
    "\n",
    "Vendor master file is the main source from which vendor details can be extracted, it also represents the gateway for making related payments. In most cases payments cannot be made to vendors that are not recorded in the file, as for a vendor to be recorded in the master file a series of procedures and approvals are undertaken to ensure authenticity of such vendor and thus related payments.\n",
    "\n",
    "Analysing the master file independently and in connection with the rest of the datasets will guide the efforts of ensuring that a company is making authentic payments and whether it has a well-established procurement practices.\n",
    "\n",
    "### Purpose of this EDA:\n",
    "\n",
    "Overall I need to conclude on the completeness and authenticity of vendor records and related transactions, I'd be interested in discovering and assessing whether the below anomalies exists and latter support or negate the conclusion by actual inspection of supporting documents:\n",
    "\n",
    "1. Duplicate vendor (based on name and other details)\n",
    "2. Missing vendor details\n",
    "3. Inconsistent naming conventions and language usage\n",
    "4. Unauthorized vendor record manipulation\n",
    "5. Inappropriate access rights and employees’ modifying their own vendor records\n",
    "6. Inactive vendors having recent POs\n",
    "7. Purchasing same item from different suppliers with unjustified variations in unit price (missing volume discounts and directing purchases to specific suppliers)\n",
    "8. Volume of transaction per each supplier (reveal potential kickbacks, thus reasoning needs proper investigation)\n",
    "\n",
    "### Main feature(s) of interest in the dataset:\n",
    "\n",
    "- Vendor details (name, ID, address, taxpayer identification number)\n",
    "- Vendor record creation and modification details (Date, employee ID, employee department)\n",
    "- PO details (item, vendor, value, date, status)"
   ]
  },
  {
   "cell_type": "markdown",
   "metadata": {},
   "source": [
    "## Univariate Exploration"
   ]
  },
  {
   "cell_type": "markdown",
   "metadata": {},
   "source": [
    "###  Is there a proper vendor registration process?"
   ]
  },
  {
   "cell_type": "code",
   "execution_count": 189,
   "metadata": {},
   "outputs": [
    {
     "data": {
      "image/png": "[encoded data removed]",
      "text/plain": [
       "<Figure size 432x288 with 1 Axes>"
      ]
     },
     "metadata": {
      "needs_background": "light"
     },
     "output_type": "display_data"
    }
   ],
   "source": [
    "# Vendor records with exact duplicate vendor names\n",
    "\n",
    "color = sb.color_palette()[9]\n",
    "\n",
    "exact_dup_name = vmf_df[vmf_df.name.duplicated(keep=False)].name\n",
    "\n",
    "sb.countplot(x = exact_dup_name, color = color)\n",
    "\n",
    "plt.xticks(rotation = 15)\n",
    "plt.gca().spines[\"top\"].set_alpha(0.0); plt.gca().spines[\"right\"].set_alpha(0.0)"
   ]
  },
  {
   "cell_type": "code",
   "execution_count": 190,
   "metadata": {},
   "outputs": [
    {
     "data": {
      "text/plain": [
       "0"
      ]
     },
     "execution_count": 190,
     "metadata": {},
     "output_type": "execute_result"
    }
   ],
   "source": [
    "vmf_df.id.duplicated().sum()"
   ]
  },
  {
   "cell_type": "markdown",
   "metadata": {},
   "source": [
    "Since all IDs are unique we have 13 duplicated records with exact vendor name, this would be the starting point of further analysis of underlying details and related transactions"
   ]
  },
  {
   "cell_type": "code",
   "execution_count": 191,
   "metadata": {},
   "outputs": [
    {
     "data": {
      "image/png": "[encoded data removed]",
      "text/plain": [
       "<Figure size 432x288 with 1 Axes>"
      ]
     },
     "metadata": {},
     "output_type": "display_data"
    }
   ],
   "source": [
    "# missing vendor details\n",
    "\n",
    "missing_details_count = vmf_df.isna().sum()\n",
    "\n",
    "missing_details_count = missing_details_count[missing_details_count > 0].sort_values(ascending=False)\n",
    "\n",
    "labels= ['Postal Code', 'Tin', 'Contact name', 'Phone', 'Address']\n",
    "\n",
    "colors = ['tab:orange', 'r', 'y', 'g', 'tab:orange']\n",
    "\n",
    "explode = [0, 0.2, 0, 0, 0]\n",
    "\n",
    "plt.pie(missing_details_count, labels= labels, colors = colors, explode = explode, startangle= 90, \n",
    "        counterclock= False, wedgeprops={'width' : 0.4, 'linewidth': 6}, \n",
    "        autopct = lambda p: '{:.0f}%'.format(round(p)) if p > 0 else '', pctdistance = 0.8, shadow = True)\n",
    "\n",
    "plt.axis('square');"
   ]
  },
  {
   "cell_type": "markdown",
   "metadata": {},
   "source": [
    "it is customary that some details go missing due to input errors; However, nature of missing details signifies its importance. All records missing Tin numbers (taxpayer identification number) needs to be thoroughly investigated as these could be fictitious vendors, also in some regions companies get charged with taxes due on vendors they deal with incase the vendor commit tax evasion."
   ]
  },
  {
   "cell_type": "code",
   "execution_count": 192,
   "metadata": {},
   "outputs": [],
   "source": [
    "# vendor names exact and fuzzy matches with similarity scores\n",
    "\n",
    "# finding exact and fuzzy matches between vendor names and calculating similarity scores to identify possible duplicates\n",
    "# matching is based on specified n_gram and number of desired matches 'n_matches'.\n",
    "# n_gram and n_matches default values are 3 and 10 respectively which mostly yield best results\n",
    "# results are not filtered but are sorted in a descending order for convenience.\n",
    "\n",
    "\n",
    "def similar(df, col1, col2):\n",
    "    '''calculate similarities of returned results from tfidf matcher\n",
    "    to facilitate filtering results'''\n",
    "    return round(SequenceMatcher(None, df[col1], df[col2]).ratio(),2)\n",
    "\n",
    "vendor_name = vmf_df.name.tolist()\n",
    "\n",
    "match_name = vmf_df.name.tolist()\n",
    "\n",
    "vn_name_match_df=tm.matcher(vendor_name , match_name, ngram_length= 3, k_matches= 10)\n",
    "\n",
    "vn_name_match_df=pd.merge(vn_name_match_df,vmf_df[['id']], left_index=True,right_index=True,how='left')\n",
    "\n",
    "vn_name_match_df.drop_duplicates(subset='Original Name', inplace=True)\n",
    "\n",
    "vn_name_match_df.drop(columns=['Match Confidence','Lookup 1'], inplace=True)\n",
    "\n",
    "vn_name_match_df.reset_index(drop=True, inplace=True)\n",
    "\n",
    "vn_name_match_df=vn_name_match_df.melt(id_vars=[\"Original Name\", 'id'],ignore_index=False)\n",
    "\n",
    "vn_name_match_df.drop(columns=['variable'], inplace=True)\n",
    "\n",
    "vn_name_match_df.reset_index(drop=True, inplace=True)\n",
    "\n",
    "vn_name_match_df['similarity']=vn_name_match_df.apply(similar,args=('Original Name', 'value'),axis=1)\n",
    "\n",
    "vn_name_match_df.index=vn_name_match_df.value\n",
    "\n",
    "vmf_df.index=vmf_df.name\n",
    "\n",
    "# collecting vendor details for matched vendors\n",
    "vn_name_match_df=pd.merge(vn_name_match_df,vmf_df[['id','vendor_status']], left_index=True,right_index=True,how='left')\n",
    "\n",
    "vn_name_match_df.reset_index(drop=True, inplace=True)\n",
    "\n",
    "vmf_df.reset_index(drop=True, inplace=True)\n",
    "\n",
    "# remove duplicate records\n",
    "temp_df=vn_name_match_df.groupby(['id_x','Original Name', 'id_y', 'value', 'similarity', 'vendor_status'])['value'].count().to_frame()\n",
    "\n",
    "vn_name_match_df= temp_df.index.to_frame()\n",
    "\n",
    "vn_name_match_df.reset_index(drop=True, inplace=True)\n",
    "\n",
    "# remove exact id matches\n",
    "vn_name_match_df=vn_name_match_df[vn_name_match_df.id_x != vn_name_match_df.id_y]\n",
    "\n",
    "vn_name_match_df[['id_x','id_y']] = vn_name_match_df[['id_x','id_y']].astype(str)\n",
    "\n",
    "# removing reverse duplicate matches to eliminate data redundancy, \n",
    "# i.e: match result of x,y and y,x basically refer to same records\n",
    "# first we join and sort both vendor ids to create a unique value for each result\n",
    "# then drop duplicate joined ids\n",
    "vn_name_match_df['reverse_duplicates'] = vn_name_match_df.apply(lambda row: ''.join(sorted([row.id_x, row.id_y])), axis=1)\n",
    "\n",
    "vn_name_match_df.drop_duplicates(subset='reverse_duplicates', inplace=True)\n",
    "\n",
    "vn_name_match_df.drop(columns='reverse_duplicates', inplace=True)\n",
    "\n",
    "vn_name_match_df.reset_index(drop=True, inplace=True)\n",
    "\n",
    "# collecting all match vendor details and sorting data for better view and comparison\n",
    "vn_name_match_df[['id_x','id_y']] = vn_name_match_df[['id_x','id_y']].astype(float)\n",
    "\n",
    "vn_name_match_df.rename(columns={'id_x':'id','Original Name':'name'}, inplace=True)\n",
    "\n",
    "vn_name_match_df=pd.merge(vn_name_match_df,vmf_df[['id', 'phone', 'postal_code', 'address', \n",
    "                                                   'taxpayer_identification_number_tin']], on='id', how='left')\n",
    "\n",
    "vn_name_match_df.rename(columns={'id':'vendor_id','name':'vendor_name','phone':'vendor_phone', \n",
    "                                 'postal_code':'vendor_postal_code', 'address':'vendor_address', \n",
    "                                 'taxpayer_identification_number_tin':'vendor_tin'}, inplace=True)\n",
    "\n",
    "vn_name_match_df.rename(columns={'id_y':'id','value':'name'}, inplace=True)\n",
    "\n",
    "vn_name_match_df=pd.merge(vn_name_match_df,vmf_df[['id', 'phone', 'postal_code', 'address', \n",
    "                                                   'taxpayer_identification_number_tin']], on='id', how='left')\n",
    "\n",
    "vn_name_match_df.rename(columns={'id':'match_vendor_id', 'name':'match_vendor_name', 'phone':'match_vendor_phone', \n",
    "                                 'postal_code':'match_vendor_postal_code', 'address':'match_vendor_address', \n",
    "                                 'taxpayer_identification_number_tin':'match_vendor_tin'}, inplace=True)\n",
    "\n",
    "result_columns=vn_name_match_df.columns.tolist()\n",
    "\n",
    "columns_sort=result_columns[:2]+result_columns[3:4]+result_columns[2:3]+result_columns[4:6]+result_columns[6:7] \\\n",
    "+result_columns[10:11]+result_columns[7:8]+result_columns[11:12]+result_columns[8:9]+result_columns[12:13] \\\n",
    "+result_columns[9:10]+result_columns[13:]\n",
    "\n",
    "vn_name_match_df=vn_name_match_df[columns_sort].sort_values(by='similarity', ascending=False)\n",
    "\n",
    "r1 = vn_name_match_df.copy()"
   ]
  },
  {
   "cell_type": "code",
   "execution_count": 193,
   "metadata": {},
   "outputs": [
    {
     "data": {
      "image/png": "[encoded data removed]",
      "text/plain": [
       "<Figure size 432x288 with 1 Axes>"
      ]
     },
     "metadata": {
      "needs_background": "light"
     },
     "output_type": "display_data"
    }
   ],
   "source": [
    "# Narrowing down results to highest similarity of vendor names (above 80%)\n",
    "# and checking status\n",
    "\n",
    "similarity_filter = r1[r1.similarity > 0.8]\n",
    "\n",
    "sb.countplot(x = similarity_filter.vendor_status, color = color)\n",
    "\n",
    "for i in range(similarity_filter.vendor_status.value_counts().shape[0]):\n",
    "    count = similarity_filter.vendor_status.value_counts()[i] \n",
    "    prop = '{:0.1f}%'.format(100 * count / similarity_filter.vendor_status.count())\n",
    "    plt.text(i,count+2, prop, va = 'center')\n",
    "\n",
    "plt.xticks(rotation = None)\n",
    "plt.gca().spines[\"top\"].set_alpha(0.0); plt.gca().spines[\"right\"].set_alpha(0.0)"
   ]
  },
  {
   "cell_type": "markdown",
   "metadata": {},
   "source": [
    "94 % of vendor’s records that have high similarity across names are active! Sampling and inspection of registration supporting documents is warranted and also tracing these vendors to PO list and related payments."
   ]
  },
  {
   "cell_type": "code",
   "execution_count": 194,
   "metadata": {},
   "outputs": [
    {
     "name": "stdout",
     "output_type": "stream",
     "text": [
      "matching vendor_phone with match_vendor_phone\n",
      "matching vendor_postal_code with match_vendor_postal_code\n",
      "matching vendor_address with match_vendor_address\n",
      "matching vendor_tin with match_vendor_tin\n"
     ]
    }
   ],
   "source": [
    "# calcualting similarites across all details (phone, address, posta, tin, etc...) of filtered records\n",
    "\n",
    "def similar_with_nan(df, col1, col2):\n",
    "    '''calculate similarities between two dataframe columns while ignoring nan values'''\n",
    "    if not df[[col1,col2]].isnull().any():\n",
    "        return round(SequenceMatcher(None, df[col1], df[col2]).ratio(),2)\n",
    "    else:\n",
    "        return 0\n",
    "\n",
    "temp_vn_df = r1.copy()\n",
    "\n",
    "temp_vn_df = temp_vn_df[temp_vn_df.similarity >= .8]\n",
    "\n",
    "for i, e in zip(*[iter(temp_vn_df.columns[6:])] * 2):\n",
    "    print('matching' + ' ' + i + ' ' + 'with' + ' ' + e)\n",
    "    result = temp_vn_df.apply(similar_with_nan,args=(i,e),axis=1)\n",
    "    temp_vn_df[i] = result\n",
    "    temp_vn_df.drop(columns=e,inplace=True)\n",
    "\n",
    "temp_vn_df['total_similarity_score'] = temp_vn_df['similarity'] + temp_vn_df.iloc[:,-5:-1].sum(axis=1)\n",
    "\n",
    "r2 = temp_vn_df.copy().sort_values(by='total_similarity_score', ascending=False)\n",
    "\n",
    "# summary of similarity across all vendor details,\n",
    "# only exact name duplicates and highest total similarities across all details are considered,\n",
    "# score of 2 and above provided best result filter. I wanna highlight fuzzy duplicates that are \n",
    "# a highly possible match, as exact matches are already clear\n",
    "\n",
    "r3 = r2[r2.total_similarity_score >= 2]\n",
    "\n",
    "r3 = r3[r3.columns[0:4]]\n",
    "\n",
    "r3.reset_index(drop=True, inplace=True)"
   ]
  },
  {
   "cell_type": "code",
   "execution_count": 195,
   "metadata": {},
   "outputs": [
    {
     "data": {
      "image/png": "[encoded data removed]",
      "text/plain": [
       "<Figure size 432x288 with 1 Axes>"
      ]
     },
     "metadata": {
      "needs_background": "light"
     },
     "output_type": "display_data"
    }
   ],
   "source": [
    "# PLotting number of records with highest similarity across all vendor details\n",
    "\n",
    "order = r3.vendor_name.value_counts().index.sort_values()\n",
    "\n",
    "sb.countplot(y = r3.vendor_name, color = color, order = order)\n",
    "\n",
    "plt.gca().spines[\"top\"].set_alpha(0.0); plt.gca().spines[\"right\"].set_alpha(0.0)"
   ]
  },
  {
   "cell_type": "markdown",
   "metadata": {},
   "source": [
    "These vendor records are most probably duplicates given the high similarity across all details. "
   ]
  },
  {
   "cell_type": "code",
   "execution_count": 196,
   "metadata": {},
   "outputs": [
    {
     "data": {
      "text/html": [
       "<div>\n",
       "<style scoped>\n",
       "    .dataframe tbody tr th:only-of-type {\n",
       "        vertical-align: middle;\n",
       "    }\n",
       "\n",
       "    .dataframe tbody tr th {\n",
       "        vertical-align: top;\n",
       "    }\n",
       "\n",
       "    .dataframe thead th {\n",
       "        text-align: right;\n",
       "    }\n",
       "</style>\n",
       "<table border=\"1\" class=\"dataframe\">\n",
       "  <thead>\n",
       "    <tr style=\"text-align: right;\">\n",
       "      <th></th>\n",
       "      <th>vendor_id</th>\n",
       "      <th>vendor_name</th>\n",
       "      <th>match_vendor_name</th>\n",
       "      <th>match_vendor_id</th>\n",
       "      <th>similarity</th>\n",
       "      <th>vendor_status</th>\n",
       "      <th>vendor_phone</th>\n",
       "      <th>vendor_postal_code</th>\n",
       "      <th>vendor_address</th>\n",
       "      <th>vendor_tin</th>\n",
       "      <th>total_similarity_score</th>\n",
       "    </tr>\n",
       "  </thead>\n",
       "  <tbody>\n",
       "    <tr>\n",
       "      <th>0</th>\n",
       "      <td>100001.0</td>\n",
       "      <td>Gottlieb-Huel</td>\n",
       "      <td>Gottlieb Huel Inc</td>\n",
       "      <td>100017.0</td>\n",
       "      <td>0.80</td>\n",
       "      <td>Active</td>\n",
       "      <td>1.00</td>\n",
       "      <td>1.00</td>\n",
       "      <td>1.00</td>\n",
       "      <td>1.0</td>\n",
       "      <td>3.80</td>\n",
       "    </tr>\n",
       "    <tr>\n",
       "      <th>1</th>\n",
       "      <td>100001.0</td>\n",
       "      <td>Gottlieb-Huel</td>\n",
       "      <td>Gottlieb-Hul</td>\n",
       "      <td>100137.0</td>\n",
       "      <td>0.96</td>\n",
       "      <td>Active</td>\n",
       "      <td>1.00</td>\n",
       "      <td>0.00</td>\n",
       "      <td>1.00</td>\n",
       "      <td>0.0</td>\n",
       "      <td>2.96</td>\n",
       "    </tr>\n",
       "    <tr>\n",
       "      <th>4</th>\n",
       "      <td>100001.0</td>\n",
       "      <td>Gottlieb-Huel</td>\n",
       "      <td>Gotlieb-H</td>\n",
       "      <td>100520.0</td>\n",
       "      <td>0.82</td>\n",
       "      <td>Active</td>\n",
       "      <td>0.50</td>\n",
       "      <td>0.00</td>\n",
       "      <td>0.59</td>\n",
       "      <td>0.0</td>\n",
       "      <td>1.91</td>\n",
       "    </tr>\n",
       "    <tr>\n",
       "      <th>6</th>\n",
       "      <td>100001.0</td>\n",
       "      <td>Gottlieb-Huel</td>\n",
       "      <td>Gottlieb-Huel</td>\n",
       "      <td>100702.0</td>\n",
       "      <td>1.00</td>\n",
       "      <td>Active</td>\n",
       "      <td>0.33</td>\n",
       "      <td>0.18</td>\n",
       "      <td>0.21</td>\n",
       "      <td>0.0</td>\n",
       "      <td>1.72</td>\n",
       "    </tr>\n",
       "    <tr>\n",
       "      <th>3</th>\n",
       "      <td>100001.0</td>\n",
       "      <td>Gottlieb-Huel</td>\n",
       "      <td>Gottlieb-Huel</td>\n",
       "      <td>100425.0</td>\n",
       "      <td>1.00</td>\n",
       "      <td>Active</td>\n",
       "      <td>0.00</td>\n",
       "      <td>0.22</td>\n",
       "      <td>0.30</td>\n",
       "      <td>0.0</td>\n",
       "      <td>1.52</td>\n",
       "    </tr>\n",
       "  </tbody>\n",
       "</table>\n",
       "</div>"
      ],
      "text/plain": [
       "   vendor_id    vendor_name  match_vendor_name  match_vendor_id  similarity  \\\n",
       "0   100001.0  Gottlieb-Huel  Gottlieb Huel Inc         100017.0        0.80   \n",
       "1   100001.0  Gottlieb-Huel       Gottlieb-Hul         100137.0        0.96   \n",
       "4   100001.0  Gottlieb-Huel          Gotlieb-H         100520.0        0.82   \n",
       "6   100001.0  Gottlieb-Huel      Gottlieb-Huel         100702.0        1.00   \n",
       "3   100001.0  Gottlieb-Huel      Gottlieb-Huel         100425.0        1.00   \n",
       "\n",
       "  vendor_status  vendor_phone  vendor_postal_code  vendor_address  vendor_tin  \\\n",
       "0        Active          1.00                1.00            1.00         1.0   \n",
       "1        Active          1.00                0.00            1.00         0.0   \n",
       "4        Active          0.50                0.00            0.59         0.0   \n",
       "6        Active          0.33                0.18            0.21         0.0   \n",
       "3        Active          0.00                0.22            0.30         0.0   \n",
       "\n",
       "   total_similarity_score  \n",
       "0                    3.80  \n",
       "1                    2.96  \n",
       "4                    1.91  \n",
       "6                    1.72  \n",
       "3                    1.52  "
      ]
     },
     "execution_count": 196,
     "metadata": {},
     "output_type": "execute_result"
    }
   ],
   "source": [
    "r2[r2.vendor_name == 'Gottlieb-Huel']"
   ]
  },
  {
   "cell_type": "markdown",
   "metadata": {},
   "source": [
    "We can observe that vendor registration process does not follow a systematic approach due to the following:\n",
    "- Usage of different naming conventions\n",
    "- Duplicate active vendor records\n",
    "- Missing vendor details\n",
    " \n",
    "Also, the ERP system (assuming that there is one) does not detect duplicated vendor details. Taking the vendor 'Gottlieb-Huel' as an example, two of the unique duplicate records (index 0 and 1) had exact vendor phone and address. It also shows that users who register vendors don't perform initial check to confirm existence of vendors prior to registration or use unified naming conventions."
   ]
  },
  {
   "cell_type": "markdown",
   "metadata": {},
   "source": [
    "### Are access rights properly enforced?"
   ]
  },
  {
   "cell_type": "code",
   "execution_count": 197,
   "metadata": {},
   "outputs": [],
   "source": [
    "# access rights review\n",
    "# identify any unauthorized record manipulation\n",
    "# by comparing edit history to approved access rights and employee records\n",
    "\n",
    "# building the dataframe of unauthorized access rights either modification of creation\n",
    "creation_temp_df = vmf_df[~vmf_df.creation_user_id.isin(access_rights_df.creation_user_id)]\n",
    "\n",
    "modification_temp_df = vmf_df[~vmf_df.modification_user_id.isin(access_rights_df.modification_user_id)]\n",
    "\n",
    "access_rights_review_df = creation_temp_df.append(modification_temp_df)\n",
    "\n",
    "access_rights_review_df.reset_index(drop=True, inplace=True)\n",
    "\n",
    "employees_df['employee_status'] = 'Active'\n",
    "\n",
    "terminated_employees_df['employee_status'] = 'Terminated'\n",
    "\n",
    "# adjusting column length to exact match in both dataframes\n",
    "fltrt_term_df=terminated_employees_df[employees_df.columns]\n",
    "\n",
    "temp_employee_df=employees_df.append(fltrt_term_df)\n",
    "\n",
    "# collecting all active/terminated employee details and sorting data for better view and comparison\n",
    "access_rights_review_df.index=access_rights_review_df.creation_user_id\n",
    "\n",
    "temp_employee_df.index=temp_employee_df.employee_id\n",
    "\n",
    "access_rights_review_df=pd.merge(access_rights_review_df,temp_employee_df[['departement', 'employee_status', 'employee_name']],\n",
    "                                 left_index=True, right_index=True, how='left')\n",
    "\n",
    "access_rights_review_df.rename(columns={'departement':'creation_user_departement', 'employee_status':'creation_user_status', \n",
    "                                        'employee_name':'creation_user_name'}, inplace=True)\n",
    "\n",
    "access_rights_review_df.index=access_rights_review_df.modification_user_id\n",
    "\n",
    "access_rights_review_df=pd.merge(access_rights_review_df,temp_employee_df[['departement', 'employee_status', 'employee_name']],\n",
    "                                 left_index=True, right_index=True, how='left')\n",
    "\n",
    "access_rights_review_df.rename(columns={'departement':'modification_user_departement', \n",
    "                                        'employee_status':'modification_user_status', 'employee_name':'modification_user_name',\n",
    "                                        'id':'vendor_id', 'name':'vendor_name'}, inplace=True)\n",
    "\n",
    "# mapping termination date to terminated employees\n",
    "for i in access_rights_review_df.creation_user_id.unique():\n",
    "    term_date_dict=terminated_employees_df.set_index('employee_id').to_dict()['termination_date']\n",
    "    \n",
    "    if i in terminated_employees_df.employee_id.values:\n",
    "        access_rights_review_df['termination_date']=access_rights_review_df.creation_user_id.map(term_date_dict)\n",
    "    else:\n",
    "        access_rights_review_df['termination_date']=access_rights_review_df.modification_user_id.map(term_date_dict)\n",
    "\n",
    "access_rights_review_df.drop_duplicates(subset = 'vendor_id', inplace =True)\n",
    "\n",
    "access_rights_review_df.reset_index(drop=True, inplace=True)\n",
    "\n",
    "temp_employee_df.reset_index(drop=True, inplace=True)\n",
    "    \n",
    "result_columns=access_rights_review_df.columns.tolist()\n",
    "\n",
    "columns_sort=result_columns[0:3]+result_columns[9:10]+result_columns[11:12]+result_columns[14:15]+result_columns[17:18] \\\n",
    "+result_columns[19:]+result_columns[10:11]+result_columns[13:14]+result_columns[15:16]+result_columns[12:13] \\\n",
    "+result_columns[16:17]+result_columns[18:19]\n",
    "\n",
    "access_rights_review_df = access_rights_review_df[columns_sort]"
   ]
  },
  {
   "cell_type": "code",
   "execution_count": 198,
   "metadata": {},
   "outputs": [
    {
     "data": {
      "image/png": "[encoded data removed]",
      "text/plain": [
       "<Figure size 432x288 with 1 Axes>"
      ]
     },
     "metadata": {
      "needs_background": "light"
     },
     "output_type": "display_data"
    }
   ],
   "source": [
    "# filtering only unauthorized edits (both creation and modification)\n",
    "\n",
    "unauthorized_cr = access_rights_review_df[~(access_rights_review_df.creation_user_id.isin(access_rights_df.creation_user_id))]\n",
    "\n",
    "unauthorized_mod = access_rights_review_df[~(access_rights_review_df.modification_user_id.isin(access_rights_df.modification_user_id))]\n",
    "\n",
    "# sort by department\n",
    "order = unauthorized_mod.modification_user_departement.value_counts().index.sort_values()\n",
    "\n",
    "sb.countplot(y = unauthorized_mod.modification_user_departement, color = color, order = order)\n",
    "\n",
    "plt.gca().spines[\"top\"].set_alpha(0.0); plt.gca().spines[\"right\"].set_alpha(0.0)"
   ]
  },
  {
   "cell_type": "markdown",
   "metadata": {},
   "source": [
    "Access rights controls are not properly enforced, as several departments can do unauthorized edits on the master file. **Actually, this type of observation might not be isolated and requires full review of domain security policies (Group Policy Settings); there might be failure to enforce group policies on local machines which could lead to internal breaches.**"
   ]
  },
  {
   "cell_type": "code",
   "execution_count": 199,
   "metadata": {},
   "outputs": [],
   "source": [
    "# Identifying Employees editing their own vendor records\n",
    "# both exact and fuzzy name matches are considered\n",
    "# results are filtered to the nearest match\n",
    "# using names instead of id as employees have two unique ids one as vendor and other as name\n",
    "\n",
    "access_rights_review_df['similarity_creation'] = access_rights_review_df.apply(similar,args=('vendor_name', 'creation_user_name'),axis=1)\n",
    "\n",
    "access_rights_review_df['similarity_modification'] = access_rights_review_df.apply(similar,args=('vendor_name', 'modification_user_name'),axis=1)\n",
    "\n",
    "r4 = access_rights_review_df[(access_rights_review_df.similarity_creation >= .6) | \n",
    "                           (access_rights_review_df.similarity_modification >= .6)]"
   ]
  },
  {
   "cell_type": "code",
   "execution_count": 200,
   "metadata": {},
   "outputs": [
    {
     "data": {
      "image/png": "[encoded data removed]",
      "text/plain": [
       "<Figure size 432x288 with 1 Axes>"
      ]
     },
     "metadata": {},
     "output_type": "display_data"
    }
   ],
   "source": [
    "# plotting modifications activity\n",
    "\n",
    "total_unauth_mods = access_rights_review_df.vendor_id.count()\n",
    "\n",
    "own_record_active = r4.groupby(['modification_user_status']).size()[0]\n",
    "\n",
    "own_record_terminated = r4.groupby(['modification_user_status']).size()[1]\n",
    "\n",
    "active = unauthorized_cr.groupby(['modification_user_status']).size()[0] + unauthorized_mod[\n",
    "    ~unauthorized_mod.creation_user_id.isin(unauthorized_cr.creation_user_id)].groupby(['modification_user_status']).size()[0]\n",
    "\n",
    "terminated = total_unauth_mods - active\n",
    "\n",
    "# -3 represents employees already considered in own record calculation\n",
    "props = [own_record_active, own_record_terminated, active -3 , terminated -3]\n",
    "\n",
    "labels= ['Active employees editing own records', 'Terminated employees editing own records', \n",
    "         'Active employees', 'Terminated employees']\n",
    "\n",
    "colors = ['r', 'r', 'tab:orange', 'y']\n",
    "\n",
    "explode = [0.2,0.2, 0, 0]\n",
    "\n",
    "plt.pie(props, labels= labels, colors = colors, explode = explode, startangle= 90, \n",
    "        counterclock= False, wedgeprops={'width' : 0.4, 'linewidth': 6}, \n",
    "        autopct=lambda p: '{:.0f}%'.format(round(p)) if p > 0 else '', pctdistance = 0.8, shadow = True)\n",
    "\n",
    "plt.axis('square');"
   ]
  },
  {
   "cell_type": "markdown",
   "metadata": {},
   "source": [
    "Employees editing own records calls for immediate corrective actions."
   ]
  },
  {
   "cell_type": "code",
   "execution_count": 201,
   "metadata": {},
   "outputs": [
    {
     "data": {
      "text/html": [
       "<div>\n",
       "<style scoped>\n",
       "    .dataframe tbody tr th:only-of-type {\n",
       "        vertical-align: middle;\n",
       "    }\n",
       "\n",
       "    .dataframe tbody tr th {\n",
       "        vertical-align: top;\n",
       "    }\n",
       "\n",
       "    .dataframe thead th {\n",
       "        text-align: right;\n",
       "    }\n",
       "</style>\n",
       "<table border=\"1\" class=\"dataframe\">\n",
       "  <thead>\n",
       "    <tr style=\"text-align: right;\">\n",
       "      <th></th>\n",
       "      <th>vendor_id</th>\n",
       "      <th>vendor_name</th>\n",
       "      <th>vendor_status</th>\n",
       "      <th>creation_date</th>\n",
       "      <th>modification_date</th>\n",
       "      <th>creation_user_status</th>\n",
       "      <th>modification_user_status</th>\n",
       "      <th>termination_date</th>\n",
       "      <th>creation_user_id</th>\n",
       "      <th>creation_user_departement</th>\n",
       "      <th>creation_user_name</th>\n",
       "      <th>modification_user_id</th>\n",
       "      <th>modification_user_departement</th>\n",
       "      <th>modification_user_name</th>\n",
       "      <th>similarity_creation</th>\n",
       "      <th>similarity_modification</th>\n",
       "    </tr>\n",
       "  </thead>\n",
       "  <tbody>\n",
       "    <tr>\n",
       "      <th>4</th>\n",
       "      <td>100891</td>\n",
       "      <td>Katrina Fells</td>\n",
       "      <td>Active</td>\n",
       "      <td>2001-11-16 10:24:00</td>\n",
       "      <td>2018-12-29 01:50:00</td>\n",
       "      <td>Active</td>\n",
       "      <td>Terminated</td>\n",
       "      <td>2005-10-27</td>\n",
       "      <td>7752282</td>\n",
       "      <td>Accounting</td>\n",
       "      <td>Tildie Pitkethly</td>\n",
       "      <td>1963374</td>\n",
       "      <td>Services</td>\n",
       "      <td>Katrina Fells</td>\n",
       "      <td>0.21</td>\n",
       "      <td>1.0</td>\n",
       "    </tr>\n",
       "    <tr>\n",
       "      <th>14</th>\n",
       "      <td>100825</td>\n",
       "      <td>Mab Speer</td>\n",
       "      <td>Active</td>\n",
       "      <td>2002-06-14 20:15:00</td>\n",
       "      <td>2018-12-29 01:50:00</td>\n",
       "      <td>Active</td>\n",
       "      <td>Terminated</td>\n",
       "      <td>2015-10-27</td>\n",
       "      <td>2682221</td>\n",
       "      <td>Procurement</td>\n",
       "      <td>Graeme Marqyes</td>\n",
       "      <td>6549024</td>\n",
       "      <td>Support</td>\n",
       "      <td>Mab Speer</td>\n",
       "      <td>0.26</td>\n",
       "      <td>1.0</td>\n",
       "    </tr>\n",
       "    <tr>\n",
       "      <th>27</th>\n",
       "      <td>100867</td>\n",
       "      <td>Quillan Wilkin</td>\n",
       "      <td>Active</td>\n",
       "      <td>2000-07-08 20:25:00</td>\n",
       "      <td>2018-12-29 01:50:00</td>\n",
       "      <td>Active</td>\n",
       "      <td>Terminated</td>\n",
       "      <td>2007-10-27</td>\n",
       "      <td>2682221</td>\n",
       "      <td>Procurement</td>\n",
       "      <td>Graeme Marqyes</td>\n",
       "      <td>9144916</td>\n",
       "      <td>Legal</td>\n",
       "      <td>Quillan Wilkin</td>\n",
       "      <td>0.14</td>\n",
       "      <td>1.0</td>\n",
       "    </tr>\n",
       "  </tbody>\n",
       "</table>\n",
       "</div>"
      ],
      "text/plain": [
       "    vendor_id     vendor_name vendor_status       creation_date  \\\n",
       "4      100891   Katrina Fells        Active 2001-11-16 10:24:00   \n",
       "14     100825       Mab Speer        Active 2002-06-14 20:15:00   \n",
       "27     100867  Quillan Wilkin        Active 2000-07-08 20:25:00   \n",
       "\n",
       "     modification_date creation_user_status modification_user_status  \\\n",
       "4  2018-12-29 01:50:00               Active               Terminated   \n",
       "14 2018-12-29 01:50:00               Active               Terminated   \n",
       "27 2018-12-29 01:50:00               Active               Terminated   \n",
       "\n",
       "   termination_date  creation_user_id creation_user_departement  \\\n",
       "4        2005-10-27           7752282                Accounting   \n",
       "14       2015-10-27           2682221               Procurement   \n",
       "27       2007-10-27           2682221               Procurement   \n",
       "\n",
       "   creation_user_name  modification_user_id modification_user_departement  \\\n",
       "4    Tildie Pitkethly               1963374                      Services   \n",
       "14     Graeme Marqyes               6549024                       Support   \n",
       "27     Graeme Marqyes               9144916                         Legal   \n",
       "\n",
       "   modification_user_name  similarity_creation  similarity_modification  \n",
       "4           Katrina Fells                 0.21                      1.0  \n",
       "14              Mab Speer                 0.26                      1.0  \n",
       "27         Quillan Wilkin                 0.14                      1.0  "
      ]
     },
     "execution_count": 201,
     "metadata": {},
     "output_type": "execute_result"
    }
   ],
   "source": [
    "# Terminated employees modifying own records after termination date\n",
    "access_rights_review_df[access_rights_review_df.termination_date < access_rights_review_df.modification_date]"
   ]
  },
  {
   "cell_type": "markdown",
   "metadata": {},
   "source": [
    "It’s clear that access rights are not properly managed. A total of 42 records were modified by unauthorized personnel of which 62% are active employees; product management department had most edits followed by marketing and R&D departments respectively. Although access rights are already predefined, it might not be enforced or users can bypass.\n",
    "\n",
    "User account management is also experiencing a significant control weakness as 3 records were edited by personnel after their termination data, this implies that they either still have access to company's network or their accounts were not deactivated after their termination and are used by internal users."
   ]
  },
  {
   "cell_type": "markdown",
   "metadata": {},
   "source": [
    "## Bivariate Exploration"
   ]
  },
  {
   "cell_type": "markdown",
   "metadata": {},
   "source": [
    "### Are there transactions with potential duplicate vendors?"
   ]
  },
  {
   "cell_type": "code",
   "execution_count": 202,
   "metadata": {},
   "outputs": [
    {
     "data": {
      "image/png": "[encoded data removed]",
      "text/plain": [
       "<Figure size 432x288 with 1 Axes>"
      ]
     },
     "metadata": {
      "needs_background": "light"
     },
     "output_type": "display_data"
    }
   ],
   "source": [
    "# plotting volume of transactions based on average of PO issed to vendors\n",
    "# selecting to 10 highest values\n",
    "\n",
    "po_df.groupby('vendor_name')['po_total'].mean().sort_values(ascending=False).head(10).plot(kind = 'barh', color = color)\n",
    "\n",
    "plt.xlabel('Avg PO value')\n",
    "\n",
    "plt.gca().spines[\"top\"].set_alpha(0.0); plt.gca().spines[\"right\"].set_alpha(0.0)"
   ]
  },
  {
   "cell_type": "markdown",
   "metadata": {},
   "source": [
    "Two potential duplicate vendors can be noted 'Zulauf and Sons Inc', 'Zulauf Inc'. Inspection of related transactions should take priority."
   ]
  },
  {
   "cell_type": "code",
   "execution_count": 203,
   "metadata": {},
   "outputs": [
    {
     "data": {
      "text/html": [
       "<div>\n",
       "<style scoped>\n",
       "    .dataframe tbody tr th:only-of-type {\n",
       "        vertical-align: middle;\n",
       "    }\n",
       "\n",
       "    .dataframe tbody tr th {\n",
       "        vertical-align: top;\n",
       "    }\n",
       "\n",
       "    .dataframe thead th {\n",
       "        text-align: right;\n",
       "    }\n",
       "</style>\n",
       "<table border=\"1\" class=\"dataframe\">\n",
       "  <thead>\n",
       "    <tr style=\"text-align: right;\">\n",
       "      <th></th>\n",
       "      <th>vendor_id</th>\n",
       "      <th>vendor_name</th>\n",
       "      <th>match_vendor_name</th>\n",
       "      <th>match_vendor_id</th>\n",
       "      <th>similarity</th>\n",
       "      <th>vendor_status</th>\n",
       "      <th>vendor_phone</th>\n",
       "      <th>match_vendor_phone</th>\n",
       "      <th>vendor_postal_code</th>\n",
       "      <th>match_vendor_postal_code</th>\n",
       "      <th>vendor_address</th>\n",
       "      <th>match_vendor_address</th>\n",
       "      <th>vendor_tin</th>\n",
       "      <th>match_vendor_tin</th>\n",
       "    </tr>\n",
       "  </thead>\n",
       "  <tbody>\n",
       "    <tr>\n",
       "      <th>2488</th>\n",
       "      <td>100313.0</td>\n",
       "      <td>Zulauf Inc</td>\n",
       "      <td>Zulauf and Sons Inc</td>\n",
       "      <td>100339.0</td>\n",
       "      <td>0.69</td>\n",
       "      <td>Active</td>\n",
       "      <td>169-848-6994</td>\n",
       "      <td>NaN</td>\n",
       "      <td>NaN</td>\n",
       "      <td>NaN</td>\n",
       "      <td>32131 Melody Avenue</td>\n",
       "      <td>32131 Melody Avenue</td>\n",
       "      <td>95-0310595</td>\n",
       "      <td>71-8030241</td>\n",
       "    </tr>\n",
       "  </tbody>\n",
       "</table>\n",
       "</div>"
      ],
      "text/plain": [
       "      vendor_id vendor_name    match_vendor_name  match_vendor_id  similarity  \\\n",
       "2488   100313.0  Zulauf Inc  Zulauf and Sons Inc         100339.0        0.69   \n",
       "\n",
       "     vendor_status  vendor_phone match_vendor_phone vendor_postal_code  \\\n",
       "2488        Active  169-848-6994                NaN                NaN   \n",
       "\n",
       "     match_vendor_postal_code       vendor_address match_vendor_address  \\\n",
       "2488                      NaN  32131 Melody Avenue  32131 Melody Avenue   \n",
       "\n",
       "      vendor_tin match_vendor_tin  \n",
       "2488  95-0310595       71-8030241  "
      ]
     },
     "execution_count": 203,
     "metadata": {},
     "output_type": "execute_result"
    }
   ],
   "source": [
    "# Checking similarity results of suspected vendor records as noted from plot above\n",
    "\n",
    "r1[(r1.vendor_name == 'Zulauf and Sons Inc') | \n",
    "   (r1.vendor_name == 'Zulauf Inc')].sort_values(by = 'similarity', ascending = False).head(1)"
   ]
  },
  {
   "cell_type": "code",
   "execution_count": 204,
   "metadata": {},
   "outputs": [
    {
     "data": {
      "text/html": [
       "<div>\n",
       "<style scoped>\n",
       "    .dataframe tbody tr th:only-of-type {\n",
       "        vertical-align: middle;\n",
       "    }\n",
       "\n",
       "    .dataframe tbody tr th {\n",
       "        vertical-align: top;\n",
       "    }\n",
       "\n",
       "    .dataframe thead th {\n",
       "        text-align: right;\n",
       "    }\n",
       "</style>\n",
       "<table border=\"1\" class=\"dataframe\">\n",
       "  <thead>\n",
       "    <tr style=\"text-align: right;\">\n",
       "      <th></th>\n",
       "      <th>po_number</th>\n",
       "      <th>po_approval_status</th>\n",
       "      <th>po_status</th>\n",
       "      <th>po_date</th>\n",
       "      <th>item_description</th>\n",
       "      <th>vendor_name</th>\n",
       "      <th>total_quantity</th>\n",
       "      <th>currency</th>\n",
       "      <th>po_total</th>\n",
       "    </tr>\n",
       "  </thead>\n",
       "  <tbody>\n",
       "    <tr>\n",
       "      <th>208</th>\n",
       "      <td>20071</td>\n",
       "      <td>Approved</td>\n",
       "      <td>Closed</td>\n",
       "      <td>2018-04-03</td>\n",
       "      <td>Pork Ham Prager</td>\n",
       "      <td>Zulauf and Sons Inc</td>\n",
       "      <td>1.0</td>\n",
       "      <td>EUR</td>\n",
       "      <td>701688</td>\n",
       "    </tr>\n",
       "    <tr>\n",
       "      <th>380</th>\n",
       "      <td>34439</td>\n",
       "      <td>Approved</td>\n",
       "      <td>Closed</td>\n",
       "      <td>2020-10-16</td>\n",
       "      <td>Milk - 2% 250 Ml</td>\n",
       "      <td>Zulauf Inc</td>\n",
       "      <td>3.0</td>\n",
       "      <td>EUR</td>\n",
       "      <td>770874</td>\n",
       "    </tr>\n",
       "  </tbody>\n",
       "</table>\n",
       "</div>"
      ],
      "text/plain": [
       "     po_number po_approval_status po_status    po_date  item_description  \\\n",
       "208      20071           Approved    Closed 2018-04-03   Pork Ham Prager   \n",
       "380      34439           Approved    Closed 2020-10-16  Milk - 2% 250 Ml   \n",
       "\n",
       "             vendor_name  total_quantity currency  po_total  \n",
       "208  Zulauf and Sons Inc             1.0      EUR    701688  \n",
       "380           Zulauf Inc             3.0      EUR    770874  "
      ]
     },
     "execution_count": 204,
     "metadata": {},
     "output_type": "execute_result"
    }
   ],
   "source": [
    "# Checking thier PO status\n",
    "po_df[(po_df.vendor_name == 'Zulauf and Sons Inc') | \n",
    "      (po_df.vendor_name == 'Zulauf Inc')]"
   ]
  },
  {
   "cell_type": "code",
   "execution_count": 205,
   "metadata": {},
   "outputs": [
    {
     "data": {
      "text/plain": [
       "(Nader and Sons    25\n",
       " Wehner-Kessler    24\n",
       " Name: vendor_name, dtype: int64,\n",
       " Quillan Wilkin    6\n",
       " Katrina Fells     6\n",
       " Mab Speer         5\n",
       " Name: vendor_name, dtype: int64)"
      ]
     },
     "execution_count": 205,
     "metadata": {},
     "output_type": "execute_result"
    }
   ],
   "source": [
    "# checking PO issued to previously identified observations of duplicate vendors names and terminated employees\n",
    "# other than the ones noted above\n",
    "\n",
    "# 1st filter of similarity in vendor names above 80%\n",
    "dup_ven = po_df[po_df.vendor_name.isin(similarity_filter.vendor_name)]\n",
    "\n",
    "term_empl = po_df[po_df.vendor_name.isin(r4.vendor_name)]\n",
    "\n",
    "dup_ven.vendor_name.value_counts() , term_empl.vendor_name.value_counts()"
   ]
  },
  {
   "cell_type": "code",
   "execution_count": 206,
   "metadata": {},
   "outputs": [
    {
     "data": {
      "text/html": [
       "<div>\n",
       "<style scoped>\n",
       "    .dataframe tbody tr th:only-of-type {\n",
       "        vertical-align: middle;\n",
       "    }\n",
       "\n",
       "    .dataframe tbody tr th {\n",
       "        vertical-align: top;\n",
       "    }\n",
       "\n",
       "    .dataframe thead th {\n",
       "        text-align: right;\n",
       "    }\n",
       "</style>\n",
       "<table border=\"1\" class=\"dataframe\">\n",
       "  <thead>\n",
       "    <tr style=\"text-align: right;\">\n",
       "      <th></th>\n",
       "      <th>vendor_id</th>\n",
       "      <th>vendor_name</th>\n",
       "      <th>match_vendor_name</th>\n",
       "      <th>match_vendor_id</th>\n",
       "      <th>similarity</th>\n",
       "      <th>vendor_status</th>\n",
       "      <th>vendor_phone</th>\n",
       "      <th>match_vendor_phone</th>\n",
       "      <th>vendor_postal_code</th>\n",
       "      <th>match_vendor_postal_code</th>\n",
       "      <th>vendor_address</th>\n",
       "      <th>match_vendor_address</th>\n",
       "      <th>vendor_tin</th>\n",
       "      <th>match_vendor_tin</th>\n",
       "    </tr>\n",
       "  </thead>\n",
       "  <tbody>\n",
       "    <tr>\n",
       "      <th>2346</th>\n",
       "      <td>100293.0</td>\n",
       "      <td>Wehner-Kessler</td>\n",
       "      <td>Ledner-Kessler</td>\n",
       "      <td>100477.0</td>\n",
       "      <td>0.86</td>\n",
       "      <td>Active</td>\n",
       "      <td>576-217-3711</td>\n",
       "      <td>438-881-9211</td>\n",
       "      <td>6419</td>\n",
       "      <td>NaN</td>\n",
       "      <td>NaN</td>\n",
       "      <td>54 Loomis Court</td>\n",
       "      <td>66-1903451</td>\n",
       "      <td>38-7120345</td>\n",
       "    </tr>\n",
       "    <tr>\n",
       "      <th>1541</th>\n",
       "      <td>100184.0</td>\n",
       "      <td>Nader and Sons</td>\n",
       "      <td>Sauer and Sons</td>\n",
       "      <td>100464.0</td>\n",
       "      <td>0.86</td>\n",
       "      <td>Active</td>\n",
       "      <td>957-220-8714</td>\n",
       "      <td>360-868-1430</td>\n",
       "      <td>NaN</td>\n",
       "      <td>349-1148</td>\n",
       "      <td>2 Coleman Terrace</td>\n",
       "      <td>07 East Plaza</td>\n",
       "      <td>NaN</td>\n",
       "      <td>92-8625563</td>\n",
       "    </tr>\n",
       "    <tr>\n",
       "      <th>1543</th>\n",
       "      <td>100184.0</td>\n",
       "      <td>Nader and Sons</td>\n",
       "      <td>Parker and Sons</td>\n",
       "      <td>100704.0</td>\n",
       "      <td>0.83</td>\n",
       "      <td>Active</td>\n",
       "      <td>957-220-8714</td>\n",
       "      <td>NaN</td>\n",
       "      <td>NaN</td>\n",
       "      <td>76200</td>\n",
       "      <td>2 Coleman Terrace</td>\n",
       "      <td>NaN</td>\n",
       "      <td>NaN</td>\n",
       "      <td>30-0113140</td>\n",
       "    </tr>\n",
       "  </tbody>\n",
       "</table>\n",
       "</div>"
      ],
      "text/plain": [
       "      vendor_id     vendor_name match_vendor_name  match_vendor_id  \\\n",
       "2346   100293.0  Wehner-Kessler    Ledner-Kessler         100477.0   \n",
       "1541   100184.0  Nader and Sons    Sauer and Sons         100464.0   \n",
       "1543   100184.0  Nader and Sons   Parker and Sons         100704.0   \n",
       "\n",
       "      similarity vendor_status  vendor_phone match_vendor_phone  \\\n",
       "2346        0.86        Active  576-217-3711       438-881-9211   \n",
       "1541        0.86        Active  957-220-8714       360-868-1430   \n",
       "1543        0.83        Active  957-220-8714                NaN   \n",
       "\n",
       "     vendor_postal_code match_vendor_postal_code     vendor_address  \\\n",
       "2346               6419                      NaN                NaN   \n",
       "1541                NaN                 349-1148  2 Coleman Terrace   \n",
       "1543                NaN                    76200  2 Coleman Terrace   \n",
       "\n",
       "     match_vendor_address  vendor_tin match_vendor_tin  \n",
       "2346      54 Loomis Court  66-1903451       38-7120345  \n",
       "1541        07 East Plaza         NaN       92-8625563  \n",
       "1543                  NaN         NaN       30-0113140  "
      ]
     },
     "execution_count": 206,
     "metadata": {},
     "output_type": "execute_result"
    }
   ],
   "source": [
    "# inspect first filter result\n",
    "\n",
    "similarity_filter[(similarity_filter.vendor_name == 'Nader and Sons') | \n",
    "                  (similarity_filter.vendor_name == 'Wehner-Kessler')]"
   ]
  },
  {
   "cell_type": "code",
   "execution_count": 207,
   "metadata": {},
   "outputs": [
    {
     "data": {
      "text/html": [
       "<div>\n",
       "<style scoped>\n",
       "    .dataframe tbody tr th:only-of-type {\n",
       "        vertical-align: middle;\n",
       "    }\n",
       "\n",
       "    .dataframe tbody tr th {\n",
       "        vertical-align: top;\n",
       "    }\n",
       "\n",
       "    .dataframe thead th {\n",
       "        text-align: right;\n",
       "    }\n",
       "</style>\n",
       "<table border=\"1\" class=\"dataframe\">\n",
       "  <thead>\n",
       "    <tr style=\"text-align: right;\">\n",
       "      <th></th>\n",
       "      <th>vendor_id</th>\n",
       "      <th>vendor_name</th>\n",
       "      <th>match_vendor_name</th>\n",
       "      <th>match_vendor_id</th>\n",
       "    </tr>\n",
       "  </thead>\n",
       "  <tbody>\n",
       "  </tbody>\n",
       "</table>\n",
       "</div>"
      ],
      "text/plain": [
       "Empty DataFrame\n",
       "Columns: [vendor_id, vendor_name, match_vendor_name, match_vendor_id]\n",
       "Index: []"
      ]
     },
     "execution_count": 207,
     "metadata": {},
     "output_type": "execute_result"
    }
   ],
   "source": [
    "# checking whether these vendors were among highest similarity scores across all vendor details (2nd filter)\n",
    "# the idea of using two filters is that matching and similarities does not produce perfect results\n",
    "# and during exploration we don't want to jump to conclusion on authenticity of each vendor prior sampling and \n",
    "# document inspection, however these two vendors appear to be independent\n",
    "\n",
    "r3[(r3.vendor_name == 'Nader and Sons') | \n",
    "   (r3.vendor_name == 'Wehner-Kessler')]"
   ]
  },
  {
   "cell_type": "code",
   "execution_count": 208,
   "metadata": {},
   "outputs": [
    {
     "data": {
      "image/png": "[encoded data removed]",
      "text/plain": [
       "<Figure size 432x288 with 1 Axes>"
      ]
     },
     "metadata": {
      "needs_background": "light"
     },
     "output_type": "display_data"
    }
   ],
   "source": [
    "# comparing volume of transactions for theses two vendors\n",
    "\n",
    "sb.boxplot(x = dup_ven.vendor_name, y = dup_ven.po_total, color = color);\n",
    "\n",
    "plt.gca().spines[\"top\"].set_alpha(0.0); plt.gca().spines[\"right\"].set_alpha(0.0)"
   ]
  },
  {
   "cell_type": "markdown",
   "metadata": {},
   "source": [
    "Nader and Sons's purchases tend to be of higher value than Wehner's with few outliers given that both have almost same number of transactions and purchase median is slightly higher for Nader than Whener. A further look into unit price variation can elaborate on this. "
   ]
  },
  {
   "cell_type": "code",
   "execution_count": 209,
   "metadata": {},
   "outputs": [
    {
     "data": {
      "text/html": [
       "<div>\n",
       "<style scoped>\n",
       "    .dataframe tbody tr th:only-of-type {\n",
       "        vertical-align: middle;\n",
       "    }\n",
       "\n",
       "    .dataframe tbody tr th {\n",
       "        vertical-align: top;\n",
       "    }\n",
       "\n",
       "    .dataframe thead th {\n",
       "        text-align: right;\n",
       "    }\n",
       "</style>\n",
       "<table border=\"1\" class=\"dataframe\">\n",
       "  <thead>\n",
       "    <tr style=\"text-align: right;\">\n",
       "      <th></th>\n",
       "      <th>po_number</th>\n",
       "      <th>po_approval_status</th>\n",
       "      <th>po_status</th>\n",
       "      <th>po_date</th>\n",
       "      <th>item_description</th>\n",
       "      <th>vendor_name</th>\n",
       "      <th>total_quantity</th>\n",
       "      <th>currency</th>\n",
       "      <th>po_total</th>\n",
       "      <th>unit_price</th>\n",
       "    </tr>\n",
       "  </thead>\n",
       "  <tbody>\n",
       "    <tr>\n",
       "      <th>413</th>\n",
       "      <td>37850</td>\n",
       "      <td>Approved</td>\n",
       "      <td>Closed</td>\n",
       "      <td>2020-03-15</td>\n",
       "      <td>Artichoke - Bottom, Canned</td>\n",
       "      <td>Nader and Sons</td>\n",
       "      <td>30.0</td>\n",
       "      <td>EUR</td>\n",
       "      <td>404418</td>\n",
       "      <td>13480</td>\n",
       "    </tr>\n",
       "    <tr>\n",
       "      <th>185</th>\n",
       "      <td>17802</td>\n",
       "      <td>Approved</td>\n",
       "      <td>Closed</td>\n",
       "      <td>2019-09-07</td>\n",
       "      <td>Beans - Fava Fresh</td>\n",
       "      <td>Nader and Sons</td>\n",
       "      <td>15.0</td>\n",
       "      <td>EUR</td>\n",
       "      <td>471146</td>\n",
       "      <td>31409</td>\n",
       "    </tr>\n",
       "    <tr>\n",
       "      <th>579</th>\n",
       "      <td>54033</td>\n",
       "      <td>Approved</td>\n",
       "      <td>Closed</td>\n",
       "      <td>2018-07-12</td>\n",
       "      <td>Bowl 12 Oz - Showcase 92012</td>\n",
       "      <td>Nader and Sons</td>\n",
       "      <td>5.0</td>\n",
       "      <td>EUR</td>\n",
       "      <td>211182</td>\n",
       "      <td>42236</td>\n",
       "    </tr>\n",
       "    <tr>\n",
       "      <th>955</th>\n",
       "      <td>95292</td>\n",
       "      <td>Approved</td>\n",
       "      <td>Closed</td>\n",
       "      <td>2018-04-14</td>\n",
       "      <td>Capon - Breast, Double, Wing On</td>\n",
       "      <td>Wehner-Kessler</td>\n",
       "      <td>3.0</td>\n",
       "      <td>EUR</td>\n",
       "      <td>691949</td>\n",
       "      <td>230649</td>\n",
       "    </tr>\n",
       "    <tr>\n",
       "      <th>485</th>\n",
       "      <td>45740</td>\n",
       "      <td>Approved</td>\n",
       "      <td>Closed</td>\n",
       "      <td>2020-05-08</td>\n",
       "      <td>Cheese - Colby</td>\n",
       "      <td>Nader and Sons</td>\n",
       "      <td>6.0</td>\n",
       "      <td>EUR</td>\n",
       "      <td>745799</td>\n",
       "      <td>124299</td>\n",
       "    </tr>\n",
       "    <tr>\n",
       "      <th>504</th>\n",
       "      <td>47187</td>\n",
       "      <td>Approved</td>\n",
       "      <td>Closed</td>\n",
       "      <td>2019-11-30</td>\n",
       "      <td>Cheese - Shred Cheddar / Mozza</td>\n",
       "      <td>Nader and Sons</td>\n",
       "      <td>2.0</td>\n",
       "      <td>EUR</td>\n",
       "      <td>400390</td>\n",
       "      <td>200195</td>\n",
       "    </tr>\n",
       "    <tr>\n",
       "      <th>109</th>\n",
       "      <td>10200</td>\n",
       "      <td>Approved</td>\n",
       "      <td>Closed</td>\n",
       "      <td>2018-11-08</td>\n",
       "      <td>Cocoa Feuilletine</td>\n",
       "      <td>Nader and Sons</td>\n",
       "      <td>10.0</td>\n",
       "      <td>EUR</td>\n",
       "      <td>231375</td>\n",
       "      <td>23137</td>\n",
       "    </tr>\n",
       "    <tr>\n",
       "      <th>502</th>\n",
       "      <td>47116</td>\n",
       "      <td>Approved</td>\n",
       "      <td>Closed</td>\n",
       "      <td>2019-09-11</td>\n",
       "      <td>Cocoa Feuilletine</td>\n",
       "      <td>Wehner-Kessler</td>\n",
       "      <td>1000.0</td>\n",
       "      <td>EUR</td>\n",
       "      <td>434905</td>\n",
       "      <td>434</td>\n",
       "    </tr>\n",
       "    <tr>\n",
       "      <th>90</th>\n",
       "      <td>8282</td>\n",
       "      <td>Approved</td>\n",
       "      <td>Closed</td>\n",
       "      <td>2020-01-15</td>\n",
       "      <td>Creme De Menth - White</td>\n",
       "      <td>Nader and Sons</td>\n",
       "      <td>75.0</td>\n",
       "      <td>EUR</td>\n",
       "      <td>792110</td>\n",
       "      <td>10561</td>\n",
       "    </tr>\n",
       "    <tr>\n",
       "      <th>433</th>\n",
       "      <td>40646</td>\n",
       "      <td>Approved</td>\n",
       "      <td>Closed</td>\n",
       "      <td>2019-05-11</td>\n",
       "      <td>Ecolab Crystal Fusion</td>\n",
       "      <td>Nader and Sons</td>\n",
       "      <td>15.0</td>\n",
       "      <td>EUR</td>\n",
       "      <td>35104</td>\n",
       "      <td>2340</td>\n",
       "    </tr>\n",
       "  </tbody>\n",
       "</table>\n",
       "</div>"
      ],
      "text/plain": [
       "     po_number po_approval_status po_status    po_date  \\\n",
       "413      37850           Approved    Closed 2020-03-15   \n",
       "185      17802           Approved    Closed 2019-09-07   \n",
       "579      54033           Approved    Closed 2018-07-12   \n",
       "955      95292           Approved    Closed 2018-04-14   \n",
       "485      45740           Approved    Closed 2020-05-08   \n",
       "504      47187           Approved    Closed 2019-11-30   \n",
       "109      10200           Approved    Closed 2018-11-08   \n",
       "502      47116           Approved    Closed 2019-09-11   \n",
       "90        8282           Approved    Closed 2020-01-15   \n",
       "433      40646           Approved    Closed 2019-05-11   \n",
       "\n",
       "                    item_description     vendor_name  total_quantity currency  \\\n",
       "413       Artichoke - Bottom, Canned  Nader and Sons            30.0      EUR   \n",
       "185               Beans - Fava Fresh  Nader and Sons            15.0      EUR   \n",
       "579      Bowl 12 Oz - Showcase 92012  Nader and Sons             5.0      EUR   \n",
       "955  Capon - Breast, Double, Wing On  Wehner-Kessler             3.0      EUR   \n",
       "485                   Cheese - Colby  Nader and Sons             6.0      EUR   \n",
       "504   Cheese - Shred Cheddar / Mozza  Nader and Sons             2.0      EUR   \n",
       "109                Cocoa Feuilletine  Nader and Sons            10.0      EUR   \n",
       "502                Cocoa Feuilletine  Wehner-Kessler          1000.0      EUR   \n",
       "90            Creme De Menth - White  Nader and Sons            75.0      EUR   \n",
       "433            Ecolab Crystal Fusion  Nader and Sons            15.0      EUR   \n",
       "\n",
       "     po_total  unit_price  \n",
       "413    404418       13480  \n",
       "185    471146       31409  \n",
       "579    211182       42236  \n",
       "955    691949      230649  \n",
       "485    745799      124299  \n",
       "504    400390      200195  \n",
       "109    231375       23137  \n",
       "502    434905         434  \n",
       "90     792110       10561  \n",
       "433     35104        2340  "
      ]
     },
     "execution_count": 209,
     "metadata": {},
     "output_type": "execute_result"
    }
   ],
   "source": [
    "# inspecting individual transactions and calculating unit price per each PO\n",
    "\n",
    "po_df['unit_price'] = po_df.po_total / po_df.total_quantity\n",
    "\n",
    "po_df['unit_price'] = po_df['unit_price'].astype(int)\n",
    "\n",
    "po_df[(po_df.vendor_name == 'Nader and Sons') | \n",
    "      (po_df.vendor_name == 'Wehner-Kessler') & \n",
    "      (po_df.item_description.duplicated())].sort_values(by = 'item_description').head(10)"
   ]
  },
  {
   "cell_type": "markdown",
   "metadata": {},
   "source": [
    "The similarity score between names of both vendors ('Zulauf and Sons Inc', 'Zulauf Inc') having highest avg PO values (first bar plot) suggest that if we are to sample and inspect supporting documents of suspected records we need to increase our search criteria to include similarities lower than 80% which was our initial filter. Moreover, we can't really rely on total similarity score of vendor details as a lot of data are missing and could lead to unrepresentative samples. So it is better to start our investigation at a lower threshold of similarity scores.\n",
    "\n",
    "The volume of transactions of these two vendors is not high in terms of transaction number rather than value, given the period between the two transactions it suggests that the vendor may have changed his commercial name which needs to be verified by appropriate supporting evidence.\n",
    "\n",
    "Nader and Sons's purchases (box plot) tend to be of higher value than Wehner's with few outliers given that both have almost same number of transactions and purchase median is slightly higher for Nader than Whener. Variation in unit prices of same items purchased from these two vendors is alarming and deems further investigation across other several vendors. Taking 'Cocoa Feuilletine' as an example (index 109 and 502), the difference in unit price is staggering and requires justification from procurement personnel.\n",
    "\n",
    "The fact that there are no POs issued to vendors with highly similar details across all records implies that theses could be unintentional errors and not directed towards manipulating purchase transactions. However, deeper investigation and inspection of supporting documentation of theses vendor registrations is still deemed necessary to conclude on the exact reason why such practice was followed. Later on purging of these records should take place.\n",
    "\n",
    "Having POs in name of terminated employees is a bit extreme. An inquiry with payable and procurement personnel and inspection of supporting documents is the logical next step."
   ]
  },
  {
   "cell_type": "markdown",
   "metadata": {},
   "source": [
    "## Multivariate Exploration"
   ]
  },
  {
   "cell_type": "markdown",
   "metadata": {},
   "source": [
    "### Is there a significant price fluctuation between vendors? Can it be justified?"
   ]
  },
  {
   "cell_type": "code",
   "execution_count": 210,
   "metadata": {},
   "outputs": [
    {
     "data": {
      "image/png": "[encoded data removed]",
      "text/plain": [
       "<Figure size 864x864 with 15 Axes>"
      ]
     },
     "metadata": {
      "needs_background": "light"
     },
     "output_type": "display_data"
    }
   ],
   "source": [
    "# observing unit price variations for same items purchased from different vendors\n",
    "\n",
    "recurring_items = po_df[po_df.duplicated(subset='item_description', keep = False)].sort_values(by = 'item_description')\n",
    "\n",
    "high_unit_price = recurring_items.sort_values(by = 'unit_price', ascending=False).head(15).item_description.values\n",
    "\n",
    "item_variation =  recurring_items[recurring_items.item_description.isin(high_unit_price)]\n",
    "\n",
    "g = sb.FacetGrid(data = item_variation, col = 'item_description', margin_titles =True, col_wrap = 4)\n",
    "g.map(plt.bar, 'vendor_name', 'unit_price');\n",
    "\n",
    "plt.yscale('log')"
   ]
  },
  {
   "cell_type": "markdown",
   "metadata": {},
   "source": [
    "Wide variation in unit prices of same items procured from different vendors can be observed"
   ]
  },
  {
   "cell_type": "code",
   "execution_count": 211,
   "metadata": {},
   "outputs": [
    {
     "data": {
      "image/png": "[encoded data removed]",
      "text/plain": [
       "<Figure size 864x864 with 15 Axes>"
      ]
     },
     "metadata": {
      "needs_background": "light"
     },
     "output_type": "display_data"
    }
   ],
   "source": [
    "# observing quantity variations for same items purchased from different vendors\n",
    "\n",
    "g = sb.FacetGrid(data = item_variation, col = 'item_description', margin_titles =True, col_wrap = 4)\n",
    "g.map(plt.bar, 'vendor_name', 'total_quantity');\n",
    "\n",
    "plt.yscale('log')"
   ]
  },
  {
   "cell_type": "markdown",
   "metadata": {},
   "source": [
    "A healthy trend of procuring more quantities from vendors offering lower prices can be noted when comparing the above two grids. Note that plotting of bars have the same order so same vendor location. Example: Milk 2% 500 Ml (2nd row from bottom)."
   ]
  },
  {
   "cell_type": "code",
   "execution_count": 212,
   "metadata": {},
   "outputs": [
    {
     "data": {
      "text/plain": [
       "item_description           po_date     unit_price  vendor_name                  \n",
       "Bread - Flat Bread         2018-10-16  255306      Thiel-Labadie                      2.0\n",
       "                           2019-03-14  46947       Dickens-Dare                      10.0\n",
       "                           2020-11-01  722822      Ortiz Inc                          1.0\n",
       "Bread - Kimel Stick Poly   2019-01-18  49519       Aufderhar, Streich and Lynch       2.0\n",
       "                           2019-08-12  755448      Padberg-Towne                      1.0\n",
       "                           2020-01-17  6606        Metz-Boehm                        20.0\n",
       "Chicken - Leg, Boneless    2019-10-02  25394       Ullrich-Emard                     19.0\n",
       "                           2020-07-20  459275      Mills-Smith                        1.0\n",
       "Gelatine Powder            2018-02-26  591730      Jerde, Kshlerin and Goldner        1.0\n",
       "                           2020-12-24  162391      Bechtelar LLC                      1.0\n",
       "Graham Cracker Mix         2020-02-21  358         Gulgowski, Borer and Koelpin     250.0\n",
       "                           2020-12-26  580324      Wuckert LLC                        1.0\n",
       "Ice Cream Bar - Drumstick  2019-08-08  747965      Moen, Gottlieb and Blanda          1.0\n",
       "                           2020-04-19  27306       Wehner-Kessler                     8.0\n",
       "Jolt Cola                  2018-01-26  584468      Eichmann, Fahey and Brakus         1.0\n",
       "                           2019-06-17  1865        Reichert-McGlynn                  50.0\n",
       "Lid - 16 Oz And 32 Oz      2019-01-14  7548        Padberg-Rice                      55.0\n",
       "                           2019-09-28  492289      Marquardt-Kovacek                  1.0\n",
       "Milk 2% 500 Ml             2019-03-04  1123        Reichert-McGlynn                 200.0\n",
       "                           2020-09-15  471243      Emmerich, Upton and McDermott      1.0\n",
       "Name: total_quantity, dtype: float64"
      ]
     },
     "execution_count": 212,
     "metadata": {},
     "output_type": "execute_result"
    }
   ],
   "source": [
    "# observing change over time in unit price when procuring same items from different vendors\n",
    "\n",
    "item_variation.groupby(['item_description', 'po_date', 'unit_price', 'vendor_name'])['total_quantity'].sum().head(20)"
   ]
  },
  {
   "cell_type": "markdown",
   "metadata": {},
   "source": [
    "It's apparent that higher unit prices are associated with lower purchase quantities. While there is a healthy trend of procuring more quantities from vendors offering lower prices, still the acquired discount (on higher quantities) does not justify the wide variation in unit prices between vendors.\n",
    "\n",
    "Moreover, it is not clear why does the company procure from vendors offering higher prices after dealing with vendors offering lower ones (example: Chicken - Leg, Boneless, Lid - 16 Oz And 32 Oz, Milk 2% 500 Ml); could be quality, product availability or other terms and conditions issues but still this raise concerns on effectiveness of supplier selection and qualification process."
   ]
  },
  {
   "cell_type": "code",
   "execution_count": 213,
   "metadata": {},
   "outputs": [
    {
     "data": {
      "image/png": "[encoded data removed]",
      "text/plain": [
       "<Figure size 432x288 with 2 Axes>"
      ]
     },
     "metadata": {
      "needs_background": "light"
     },
     "output_type": "display_data"
    }
   ],
   "source": [
    "# Heat map of PO numeric details (value, quantity and unit price)\n",
    "\n",
    "po_num_stats = po_df.columns[6:]\n",
    "\n",
    "sb.heatmap(po_df[po_num_stats].corr(), cmap = 'rocket_r', annot = True, fmt ='.2f');"
   ]
  },
  {
   "cell_type": "markdown",
   "metadata": {},
   "source": [
    "The heat map confirms earlier observation of negative correlation between quantity and unit price which is a logical and expected relationship, however it is not a strong one due to the staggering price variations among vendors."
   ]
  },
  {
   "cell_type": "markdown",
   "metadata": {},
   "source": [
    "## Summary of Initial findings\n",
    "\n",
    "Several duplicated records were noted suggesting that Initial supplier registration does not follow a systematic usage of naming conventions; The ERP system does not detect duplicated vendor details.\n",
    "\n",
    "Access rights are not properly managed. A total of 42 records were modified by unauthorized personnel of which 62% are active employees; product management department had most edits followed by marketing and R&D departments respectively. \n",
    "\n",
    "User account management is also experiencing a significant control weakness as 3 records were edited by personnel after their termination data; there might be failure to enforce group policies on local machines which could lead to internal breaches.\n",
    "\n",
    "The fact that there are no POs issued to vendors with highly similar details across all records implies that theses could be unintentional errors and not directed towards manipulating purchase transactions.\n",
    "\n",
    "Variation in unit prices of same items purchased from different vendors is alarming; the difference in unit price is staggering and was noted in several types of products among different vendors.\n",
    "\n",
    "## Conclusion\n",
    "\n",
    "We started off with a focused review of specific procurement procedures and we ended up with a need to branch in a full review of procurement process, as well as IT department’s practices for access rights and user account management procedures."
   ]
  }
 ],
 "metadata": {
  "kernelspec": {
   "display_name": "Python 3",
   "language": "python",
   "name": "python3"
  },
  "language_info": {
   "codemirror_mode": {
    "name": "ipython",
    "version": 3
   },
   "file_extension": ".py",
   "mimetype": "text/x-python",
   "name": "python",
   "nbconvert_exporter": "python",
   "pygments_lexer": "ipython3",
   "version": "3.8.5"
  }
 },
 "nbformat": 4,
 "nbformat_minor": 2
}
