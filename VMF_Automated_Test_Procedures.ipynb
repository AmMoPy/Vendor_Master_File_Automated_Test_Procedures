{
 "cells": [
  {
   "cell_type": "code",
   "execution_count": 1,
   "metadata": {},
   "outputs": [
    {
     "name": "stdout",
     "output_type": "stream",
     "text": [
      "Wall time: 24 s\n"
     ]
    }
   ],
   "source": [
    "%%time\n",
    "import pandas as pd\n",
    "import numpy as np\n",
    "import tfidf_matcher as tm\n",
    "import datetime as dt\n",
    "import time\n",
    "import calendar\n",
    "from difflib import SequenceMatcher\n",
    "from functools import reduce"
   ]
  },
  {
   "cell_type": "code",
   "execution_count": 2,
   "metadata": {},
   "outputs": [
    {
     "name": "stdout",
     "output_type": "stream",
     "text": [
      "Wall time: 545 ms\n"
     ]
    }
   ],
   "source": [
    "%%time\n",
    "\n",
    "vmf_df= pd.read_csv('VMF_vendor_list.csv', sep='\\t', encoding='utf-16')\n",
    "access_rights_df = pd.read_csv('VMF_access_rights.csv', sep='\\t', encoding='utf-16').dropna(how='all')\n",
    "employees_df = pd.read_csv('VMF_employee_list.csv', sep='\\t', encoding='utf-16').dropna(how='all')\n",
    "terminated_employees_df = pd.read_csv('VMF_terminated_employees.csv', sep='\\t', encoding='utf-16').dropna(how='all')\n",
    "po_df = pd.read_csv('VMF_po_list.csv', sep='\\t', encoding='utf-16').dropna(how='all')"
   ]
  },
  {
   "cell_type": "code",
   "execution_count": 3,
   "metadata": {},
   "outputs": [
    {
     "name": "stdout",
     "output_type": "stream",
     "text": [
      "Wall time: 2.72 s\n"
     ]
    }
   ],
   "source": [
    "%%time\n",
    "\n",
    "# Applying proper dtypes\n",
    "\n",
    "vmf_df.name = vmf_df.name.astype(str)\n",
    "vmf_df.creation_date = pd.to_datetime(vmf_df.creation_date)\n",
    "vmf_df.modification_date = pd.to_datetime(vmf_df.modification_date)\n",
    "\n",
    "employees_df.employee_name = employees_df.employee_name.astype(str)\n",
    "employees_df.hiring_date = pd.to_datetime(employees_df.hiring_date)\n",
    "\n",
    "terminated_employees_df.employee_name = terminated_employees_df.employee_name.astype(str)\n",
    "terminated_employees_df.hiring_date = pd.to_datetime(terminated_employees_df.hiring_date)\n",
    "terminated_employees_df.termination_date = pd.to_datetime(terminated_employees_df.termination_date)\n",
    "\n",
    "po_df.po_date = pd.to_datetime(po_df.po_date)\n",
    "po_df.po_total = po_df.po_total.str.replace(',', '').astype(int)"
   ]
  },
  {
   "cell_type": "code",
   "execution_count": 4,
   "metadata": {},
   "outputs": [],
   "source": [
    "def similar(df, col1, col2):\n",
    "    '''calculate similarities of returned results from tfidf matcher\n",
    "    to facilitate filtering results'''\n",
    "    return round(SequenceMatcher(None, df[col1], df[col2]).ratio(),2)\n",
    "\n",
    "def similar_with_nan(df, col1, col2):\n",
    "    '''calculate similarities between two dataframe columns while ignoring nan values'''\n",
    "    if not df[[col1,col2]].isnull().any():\n",
    "        return round(SequenceMatcher(None, df[col1], df[col2]).ratio(),2)\n",
    "    else:\n",
    "        return 0\n",
    "\n",
    "def non_english_names(name):\n",
    "    return name.isascii()\n",
    "\n",
    "n_gram = 3\n",
    "n_matches = 10\n",
    "\n",
    "def employee_vs_vendor_records(vendor_df, employee_df, n_gram, n_matches):\n",
    "    '''finding exact and fuzzy matches between employee and vendor names \n",
    "    based on user specified n_gram and number of desired matches 'n_matches'.\n",
    "    n_gram and n_matches default values are 3 and 10 respectively which mostly yield best results\n",
    "    results are not filtered but are sorted in a descending order for convenience.\n",
    "    '''\n",
    "    \n",
    "    # identifying which datafram is loaded to properly name results while saving\n",
    "    # as this function will be applied for both active and terminated employees\n",
    "    \n",
    "    employee_status = ''\n",
    "    \n",
    "    if employee_df is employees_df:\n",
    "        employee_status= 'active'\n",
    "    else:\n",
    "        employee_status= 'terminated'\n",
    "        \n",
    "    # preparing list of names to match\n",
    "    vendor_names_list = vendor_df.name.tolist()\n",
    "    \n",
    "    employee_names_list = employee_df.employee_name.tolist()\n",
    "    \n",
    "    # applying match function, adjusting data view and calculating similarities of returned results\n",
    "    em_name_match_df=tm.matcher(employee_names_list, vendor_names_list, ngram_length= n_gram, k_matches= n_matches)\n",
    "\n",
    "    em_name_match_df=pd.merge(em_name_match_df,employee_df[['employee_id']], left_index=True,right_index=True,how='left')\n",
    "\n",
    "    em_name_match_df.drop_duplicates(subset='Original Name', inplace=True)\n",
    "\n",
    "    em_name_match_df.drop(columns=['Match Confidence'], inplace=True)\n",
    "\n",
    "    em_name_match_df.reset_index(drop=True, inplace=True)\n",
    "\n",
    "    em_name_match_df=em_name_match_df.melt(id_vars=[\"Original Name\", 'employee_id'],ignore_index=False)\n",
    "\n",
    "    em_name_match_df.drop(columns=['variable'], inplace=True)\n",
    "    \n",
    "    em_name_match_df.reset_index(drop=True, inplace=True)\n",
    "\n",
    "    em_name_match_df['similarity']=em_name_match_df.apply(similar,args=('Original Name', 'value'),axis=1)\n",
    "\n",
    "    em_name_match_df.drop_duplicates(inplace=True)\n",
    "\n",
    "    em_name_match_df.rename(columns={'value':'name'}, inplace=True)\n",
    "\n",
    "    em_name_match_df.index=em_name_match_df.name\n",
    "\n",
    "    vendor_df.index=vendor_df.name\n",
    "    \n",
    "    # collecting vendor details for matched vendors\n",
    "    \n",
    "    em_name_match_df=pd.merge(em_name_match_df,vendor_df[['id', 'vendor_status']], left_index=True,right_index=True,how='left')\n",
    "\n",
    "    em_name_match_df.reset_index(drop=True, inplace=True)\n",
    "\n",
    "    vendor_df.reset_index(drop=True, inplace=True)\n",
    "    \n",
    "    # removing reverse duplicate matches to eliminate data redundancy, \n",
    "    # i.e: match result of x,y and y,x basically refer to same records\n",
    "    # first we join and sort both names to create a unique value for each result\n",
    "    # then drop duplicate joined names\n",
    "    \n",
    "    em_name_match_df['reverse_duplicates'] = em_name_match_df.apply(lambda row: ' '.join(sorted([row['Original Name'], row['name']])), axis=1)\n",
    "\n",
    "    em_name_match_df.drop_duplicates(subset='reverse_duplicates', inplace=True)\n",
    "\n",
    "    em_name_match_df.drop(columns='reverse_duplicates', inplace=True)\n",
    "    \n",
    "    em_name_match_df.reset_index(drop=True, inplace=True)\n",
    "    \n",
    "    # collecting all employee/vendor details and sorting data for better view and comparison\n",
    "    \n",
    "    em_name_match_df=pd.merge(em_name_match_df,employee_df[['employee_id', 'phone', 'postal_code', 'address', \n",
    "                                                             'social_security_number_ssn']], on='employee_id', how='left')\n",
    "\n",
    "    em_name_match_df.rename(columns={'Original Name':'employee_name', 'phone':'employee_phone', 'postal_code':'employee_postal_code', 'address':'employee_address',\n",
    "                                     'social_security_number_ssn':'employee_ssn'}, inplace=True)\n",
    "\n",
    "    em_name_match_df=pd.merge(em_name_match_df,vendor_df[['id', 'phone', 'postal_code', 'address', \n",
    "                                                       'taxpayer_identification_number_tin']], on='id', how='left')\n",
    "\n",
    "    em_name_match_df.rename(columns={'id':'vendor_id', 'name':'vendor_name', 'phone':'vendor_phone', \n",
    "                                     'postal_code':'vendor_postal_code', 'address':'vendor_address', \n",
    "                                     'taxpayer_identification_number_tin':'vendor_tin'}, inplace=True)\n",
    "\n",
    "    result_columns=em_name_match_df.columns.tolist()\n",
    "    columns_sort=result_columns[1:2]+result_columns[0:1]+result_columns[2:3]+result_columns[4:5]+result_columns[3:4] \\\n",
    "    +result_columns[5:6]+result_columns[6:7]+result_columns[10:11]+result_columns[7:8]+result_columns[11:12]+result_columns[8:9] \\\n",
    "    +result_columns[12:13]+result_columns[9:10]+result_columns[13:]\n",
    "\n",
    "    em_name_match_df=em_name_match_df[columns_sort].sort_values(by='similarity', ascending=False)\n",
    "    \n",
    "    # saving results based on type of dataframe loaded into the function\n",
    "    \n",
    "    if employee_status == 'active':\n",
    "        em_name_match_df.to_csv('active_em_name_match.csv', index=False)\n",
    "        r=em_name_match_df.copy()\n",
    "    else:\n",
    "        em_name_match_df.to_csv('terminated_em_name_match.csv', index=False)\n",
    "        r=em_name_match_df.copy()\n",
    "        \n",
    "    return r\n",
    "\n",
    "def weekday_or_weekend(date_col) :\n",
    "    '''\n",
    "    converting timestamp column to day number\n",
    "    '''\n",
    "    return dt.datetime.weekday(date_col)\n",
    "\n",
    "# setting up weekend days based on day numbers\n",
    "# Week starts on Monday: Monday is o - Sunday is 6\n",
    "weekends = [4,5]\n",
    "\n",
    "# setting up abnormal working hours\n",
    "abnormal_working_hours = [20, 5]"
   ]
  },
  {
   "cell_type": "code",
   "execution_count": 5,
   "metadata": {},
   "outputs": [
    {
     "name": "stdout",
     "output_type": "stream",
     "text": [
      "Wall time: 7.3 s\n"
     ]
    }
   ],
   "source": [
    "%%time\n",
    "\n",
    "#  vendor records exact and fuzzy matches\n",
    "\n",
    "# finding exact and fuzzy matches between vendor names to identify possible duplicates\n",
    "# based on user specified n_gram and number of desired matches 'n_matches'.\n",
    "# n_gram and n_matches default values are 3 and 10 respectively which mostly yield best results\n",
    "# results are not filtered but are sorted in a descending order for convenience.\n",
    "\n",
    "# preparing list of names to match\n",
    "vendor_name = vmf_df.name.tolist()\n",
    "\n",
    "match_name = vmf_df.name.tolist()\n",
    "\n",
    "# applying match function, adjusting data view and calculating similarities of returned results\n",
    "vn_name_match_df=tm.matcher(vendor_name , match_name, ngram_length= n_gram, k_matches= n_matches)\n",
    "\n",
    "vn_name_match_df=pd.merge(vn_name_match_df,vmf_df[['id']], left_index=True,right_index=True,how='left')\n",
    "\n",
    "vn_name_match_df.drop_duplicates(subset='Original Name', inplace=True)\n",
    "\n",
    "vn_name_match_df.drop(columns=['Match Confidence','Lookup 1'], inplace=True)\n",
    "\n",
    "vn_name_match_df.reset_index(drop=True, inplace=True)\n",
    "\n",
    "vn_name_match_df=vn_name_match_df.melt(id_vars=[\"Original Name\", 'id'],ignore_index=False)\n",
    "\n",
    "vn_name_match_df.drop(columns=['variable'], inplace=True)\n",
    "\n",
    "vn_name_match_df.reset_index(drop=True, inplace=True)\n",
    "\n",
    "vn_name_match_df['similarity']=vn_name_match_df.apply(similar,args=('Original Name', 'value'),axis=1)\n",
    "\n",
    "vn_name_match_df.index=vn_name_match_df.value\n",
    "\n",
    "vmf_df.index=vmf_df.name\n",
    "\n",
    "# collecting vendor details for matched vendors\n",
    "vn_name_match_df=pd.merge(vn_name_match_df,vmf_df[['id','vendor_status']], left_index=True,right_index=True,how='left')\n",
    "\n",
    "vn_name_match_df.reset_index(drop=True, inplace=True)\n",
    "\n",
    "vmf_df.reset_index(drop=True, inplace=True)\n",
    "\n",
    "# remove duplicate records\n",
    "temp_df=vn_name_match_df.groupby(['id_x','Original Name', 'id_y', 'value', 'similarity', 'vendor_status'])['value'].count().to_frame()\n",
    "\n",
    "vn_name_match_df= temp_df.index.to_frame()\n",
    "\n",
    "vn_name_match_df.reset_index(drop=True, inplace=True)\n",
    "\n",
    "# remove exact id matches\n",
    "vn_name_match_df=vn_name_match_df[vn_name_match_df.id_x != vn_name_match_df.id_y]\n",
    "\n",
    "vn_name_match_df[['id_x','id_y']] = vn_name_match_df[['id_x','id_y']].astype(str)\n",
    "\n",
    "# removing reverse duplicate matches to eliminate data redundancy, \n",
    "# i.e: match result of x,y and y,x basically refer to same records\n",
    "# first we join and sort both vendor ids to create a unique value for each result\n",
    "# then drop duplicate joined ids\n",
    "vn_name_match_df['reverse_duplicates'] = vn_name_match_df.apply(lambda row: ''.join(sorted([row.id_x, row.id_y])), axis=1)\n",
    "\n",
    "vn_name_match_df.drop_duplicates(subset='reverse_duplicates', inplace=True)\n",
    "\n",
    "vn_name_match_df.drop(columns='reverse_duplicates', inplace=True)\n",
    "\n",
    "vn_name_match_df.reset_index(drop=True, inplace=True)\n",
    "\n",
    "# collecting all match vendor details and sorting data for better view and comparison\n",
    "vn_name_match_df[['id_x','id_y']] = vn_name_match_df[['id_x','id_y']].astype(float)\n",
    "\n",
    "vn_name_match_df.rename(columns={'id_x':'id','Original Name':'name'}, inplace=True)\n",
    "\n",
    "vn_name_match_df=pd.merge(vn_name_match_df,vmf_df[['id', 'phone', 'postal_code', 'address', \n",
    "                                                   'taxpayer_identification_number_tin']], on='id', how='left')\n",
    "\n",
    "vn_name_match_df.rename(columns={'id':'vendor_id','name':'vendor_name','phone':'vendor_phone', \n",
    "                                 'postal_code':'vendor_postal_code', 'address':'vendor_address', \n",
    "                                 'taxpayer_identification_number_tin':'vendor_tin'}, inplace=True)\n",
    "\n",
    "vn_name_match_df.rename(columns={'id_y':'id','value':'name'}, inplace=True)\n",
    "\n",
    "vn_name_match_df=pd.merge(vn_name_match_df,vmf_df[['id', 'phone', 'postal_code', 'address', \n",
    "                                                   'taxpayer_identification_number_tin']], on='id', how='left')\n",
    "\n",
    "vn_name_match_df.rename(columns={'id':'match_vendor_id', 'name':'match_vendor_name', 'phone':'match_vendor_phone', \n",
    "                                 'postal_code':'match_vendor_postal_code', 'address':'match_vendor_address', \n",
    "                                 'taxpayer_identification_number_tin':'match_vendor_tin'}, inplace=True)\n",
    "\n",
    "result_columns=vn_name_match_df.columns.tolist()\n",
    "\n",
    "columns_sort=result_columns[:2]+result_columns[3:4]+result_columns[2:3]+result_columns[4:6]+result_columns[6:7] \\\n",
    "+result_columns[10:11]+result_columns[7:8]+result_columns[11:12]+result_columns[8:9]+result_columns[12:13] \\\n",
    "+result_columns[9:10]+result_columns[13:]\n",
    "\n",
    "vn_name_match_df=vn_name_match_df[columns_sort].sort_values(by='similarity', ascending=False)\n",
    "\n",
    "r1=vn_name_match_df.copy()"
   ]
  },
  {
   "cell_type": "code",
   "execution_count": 6,
   "metadata": {},
   "outputs": [
    {
     "name": "stdout",
     "output_type": "stream",
     "text": [
      "Wall time: 7.04 s\n"
     ]
    }
   ],
   "source": [
    "%%time\n",
    "\n",
    "# Active employees records vs vendors records\n",
    "\n",
    "r2 = employee_vs_vendor_records(vmf_df, employees_df, n_gram, n_matches)"
   ]
  },
  {
   "cell_type": "code",
   "execution_count": 7,
   "metadata": {},
   "outputs": [
    {
     "name": "stdout",
     "output_type": "stream",
     "text": [
      "Wall time: 6.87 s\n"
     ]
    }
   ],
   "source": [
    "%%time\n",
    "\n",
    "# Terminated employees records vs vendors records\n",
    "\n",
    "r3 = employee_vs_vendor_records(vmf_df, terminated_employees_df, n_gram, n_matches)"
   ]
  },
  {
   "cell_type": "code",
   "execution_count": 8,
   "metadata": {},
   "outputs": [
    {
     "name": "stdout",
     "output_type": "stream",
     "text": [
      "Wall time: 13 ms\n"
     ]
    }
   ],
   "source": [
    "%%time\n",
    "\n",
    "# lang_filter\n",
    "\n",
    "r4 = vmf_df[~vmf_df['name'].apply(non_english_names)]"
   ]
  },
  {
   "cell_type": "code",
   "execution_count": 9,
   "metadata": {},
   "outputs": [
    {
     "name": "stdout",
     "output_type": "stream",
     "text": [
      "Wall time: 3.47 s\n"
     ]
    }
   ],
   "source": [
    "%%time\n",
    "\n",
    "# POs placed to employees\n",
    "# identify all POs issued in the name of employees either active or terminated,\n",
    "# using the results from previous functions and linking to po list\n",
    "# both exact and fuzzy name matches are considered\n",
    "\n",
    "active = pd.read_csv('active_em_name_match.csv')\n",
    "\n",
    "terminated = pd.read_csv('terminated_em_name_match.csv')\n",
    "\n",
    "# building the dataframe\n",
    "# filtering close matches, according to difflib official documentation\n",
    "# value over 0.6 means the sequences are close matches\n",
    "fltrd_active_temp_df=active[active.similarity >= .6].copy()\n",
    "\n",
    "fltrd_active_temp_df['employee_status']= 'Active'\n",
    "\n",
    "fltrd_term_temp_df= terminated[terminated.similarity >= .6].copy()\n",
    "\n",
    "fltrd_term_temp_df['employee_status']= 'Terminated'\n",
    "\n",
    "employee_vs_po_list= fltrd_active_temp_df.append(fltrd_term_temp_df, ignore_index=True)\n",
    "\n",
    "# mapping termination date to terminated employees\n",
    "for i in employee_vs_po_list.employee_name.unique():\n",
    "    \n",
    "    term_date_dict=terminated_employees_df.set_index('employee_name').to_dict()['termination_date']\n",
    "    \n",
    "    if i in terminated_employees_df.employee_name.values:\n",
    "        \n",
    "        employee_vs_po_list['termination_date']=employee_vs_po_list.employee_name.map(term_date_dict)\n",
    "        \n",
    "    else:\n",
    "        \n",
    "        employee_vs_po_list['termination_date']= 'N/A'\n",
    "            \n",
    "employee_vs_po_list=pd.merge(employee_vs_po_list,po_df[['vendor_name','po_number','po_date','po_status','po_total', 'currency']], \n",
    "                             on='vendor_name', how='left')\n",
    "\n",
    "# remove records of employees having no po issued in thier name\n",
    "temp_df=employee_vs_po_list.groupby(['employee_id', 'employee_name', 'vendor_name', 'vendor_id','similarity', \n",
    "                                     'vendor_status', 'employee_status', 'termination_date','po_date', 'po_number',\n",
    "                                     'po_status', 'po_total', 'currency'])['po_number'].count().to_frame()\n",
    "\n",
    "employee_vs_po_list= temp_df.index.to_frame()\n",
    "\n",
    "employee_vs_po_list.reset_index(drop=True, inplace=True)\n",
    "\n",
    "r5=employee_vs_po_list.sort_values(by='similarity', ascending=False)"
   ]
  },
  {
   "cell_type": "code",
   "execution_count": 10,
   "metadata": {},
   "outputs": [
    {
     "name": "stdout",
     "output_type": "stream",
     "text": [
      "Wall time: 558 ms\n"
     ]
    }
   ],
   "source": [
    "%%time\n",
    "\n",
    "# access rights review\n",
    "# identify any unauthorized record manipulation\n",
    "# by comparing edit history to approved access rights and employee records\n",
    "\n",
    "# building the dataframe\n",
    "creation_temp_df = vmf_df[~vmf_df.creation_user_id.isin(access_rights_df.creation_user_id)]\n",
    "\n",
    "modification_temp_df = vmf_df[~vmf_df.modification_user_id.isin(access_rights_df.modification_user_id)]\n",
    "\n",
    "access_rights_review_df = creation_temp_df.append(modification_temp_df)\n",
    "\n",
    "access_rights_review_df.reset_index(drop=True, inplace=True)\n",
    "\n",
    "employees_df['employee_status'] = 'Active'\n",
    "\n",
    "terminated_employees_df['employee_status'] = 'Terminated'\n",
    "\n",
    "# adjusting column length to exact match in both dataframes\n",
    "fltrt_term_df=terminated_employees_df[employees_df.columns]\n",
    "\n",
    "temp_employee_df=employees_df.append(fltrt_term_df)\n",
    "\n",
    "# collecting all active/terminated employee details and sorting data for better view and comparison\n",
    "access_rights_review_df.index=access_rights_review_df.creation_user_id\n",
    "\n",
    "temp_employee_df.index=temp_employee_df.employee_id\n",
    "\n",
    "access_rights_review_df=pd.merge(access_rights_review_df,temp_employee_df[['departement', 'employee_status', 'employee_name']],\n",
    "                                 left_index=True, right_index=True, how='left')\n",
    "\n",
    "access_rights_review_df.rename(columns={'departement':'creation_user_departement', 'employee_status':'creation_user_status', \n",
    "                                        'employee_name':'creation_user_name'}, inplace=True)\n",
    "\n",
    "access_rights_review_df.index=access_rights_review_df.modification_user_id\n",
    "\n",
    "access_rights_review_df=pd.merge(access_rights_review_df,temp_employee_df[['departement', 'employee_status', 'employee_name']],\n",
    "                                 left_index=True, right_index=True, how='left')\n",
    "\n",
    "access_rights_review_df.rename(columns={'departement':'modification_user_departement', \n",
    "                                        'employee_status':'modification_user_status', 'employee_name':'modification_user_name',\n",
    "                                        'id':'vendor_id', 'name':'vendor_name'}, inplace=True)\n",
    "\n",
    "# mapping termination date to terminated employees\n",
    "for i in access_rights_review_df.creation_user_id.unique():\n",
    "    term_date_dict=terminated_employees_df.set_index('employee_id').to_dict()['termination_date']\n",
    "    \n",
    "    if i in terminated_employees_df.employee_id.values:\n",
    "        access_rights_review_df['termination_date']=access_rights_review_df.creation_user_id.map(term_date_dict)\n",
    "    else:\n",
    "        access_rights_review_df['termination_date']=access_rights_review_df.modification_user_id.map(term_date_dict)\n",
    "\n",
    "access_rights_review_df.reset_index(drop=True, inplace=True)\n",
    "\n",
    "temp_employee_df.reset_index(drop=True, inplace=True)\n",
    "    \n",
    "result_columns=access_rights_review_df.columns.tolist()\n",
    "\n",
    "columns_sort=result_columns[0:3]+result_columns[9:10]+result_columns[11:12]+result_columns[14:15]+result_columns[17:18] \\\n",
    "+result_columns[19:]+result_columns[10:11]+result_columns[13:14]+result_columns[15:16]+result_columns[12:13] \\\n",
    "+result_columns[16:17]+result_columns[18:19]\n",
    "\n",
    "access_rights_review_df=access_rights_review_df[columns_sort]\n",
    "\n",
    "r6=access_rights_review_df.copy()"
   ]
  },
  {
   "cell_type": "code",
   "execution_count": 11,
   "metadata": {},
   "outputs": [
    {
     "name": "stdout",
     "output_type": "stream",
     "text": [
      "Wall time: 104 ms\n"
     ]
    }
   ],
   "source": [
    "%%time\n",
    "\n",
    "# Employees editing thier own vendor records\n",
    "# both exact and fuzzy name matches are considered\n",
    "# results are filtered to the nearest match\n",
    "\n",
    "access_rights_review_df['similarity_creation'] = access_rights_review_df.apply(similar,args=('vendor_name', 'creation_user_name'),axis=1)\n",
    "\n",
    "access_rights_review_df['similarity_modification'] = access_rights_review_df.apply(similar,args=('vendor_name', 'modification_user_name'),axis=1)\n",
    "\n",
    "r7=access_rights_review_df[(access_rights_review_df.similarity_creation >= .6) | \n",
    "                           (access_rights_review_df.similarity_modification >= .6)]"
   ]
  },
  {
   "cell_type": "code",
   "execution_count": 12,
   "metadata": {},
   "outputs": [
    {
     "name": "stdout",
     "output_type": "stream",
     "text": [
      "Wall time: 162 ms\n"
     ]
    }
   ],
   "source": [
    "%%time\n",
    "\n",
    "# Weekends modifications and at abnormal working hours\n",
    "\n",
    "temp_vmf_df=vmf_df.copy()\n",
    "\n",
    "temp_vmf_df['creation_hour'] = temp_vmf_df['creation_date'].dt.hour\n",
    "\n",
    "temp_vmf_df['modification_hour'] = temp_vmf_df['modification_date'].dt.hour\n",
    "    \n",
    "temp_vmf_df['creation_day']=temp_vmf_df.creation_date.apply(weekday_or_weekend)\n",
    "\n",
    "temp_vmf_df['modification_day']=temp_vmf_df.modification_date.apply(weekday_or_weekend)\n",
    "\n",
    "# modifications on weekends\n",
    "r8 = temp_vmf_df[(temp_vmf_df.creation_day.isin(weekends)) | (temp_vmf_df.modification_day.isin(weekends))]\n",
    "\n",
    "result_columns=r8.columns.tolist()\n",
    "\n",
    "columns_sort=result_columns[0:3]+result_columns[9:]\n",
    "\n",
    "r8 = r8[columns_sort]\n",
    "\n",
    "# late modifications after normal working hours,\n",
    "# excluding records already identified in weekend modification to avoid duplication\n",
    "if len(abnormal_working_hours) > 1 :\n",
    "    if abnormal_working_hours[0] in np.arange(12,24):\n",
    "    \n",
    "        temp_creation_df = temp_vmf_df[(temp_vmf_df.creation_hour >= abnormal_working_hours[0]) | \n",
    "                                       (temp_vmf_df.creation_hour <= abnormal_working_hours[1])]\n",
    "\n",
    "        temp_modification_df = temp_vmf_df[(temp_vmf_df.modification_hour >= abnormal_working_hours[0]) | \n",
    "                                           (temp_vmf_df.modification_hour <= abnormal_working_hours[1])]\n",
    "    else:\n",
    "    \n",
    "        temp_creation_df = temp_vmf_df[(temp_vmf_df.creation_hour >= abnormal_working_hours[0]) & \n",
    "                                       (temp_vmf_df.creation_hour <= abnormal_working_hours[1])]\n",
    "\n",
    "        temp_modification_df = temp_vmf_df[(temp_vmf_df.modification_hour >= abnormal_working_hours[0]) & \n",
    "                                           (temp_vmf_df.modification_hour <= abnormal_working_hours[1])]\n",
    "else:\n",
    "    temp_creation_df = temp_vmf_df[(temp_vmf_df.creation_hour == abnormal_working_hours[0])]\n",
    "\n",
    "    temp_modification_df = temp_vmf_df[(temp_vmf_df.modification_hour == abnormal_working_hours[0])]\n",
    "    \n",
    "# filter out records already identified as abnormal creation hour\n",
    "temp_modification_df = temp_modification_df[~temp_modification_df.id.isin(temp_creation_df.id)]\n",
    "\n",
    "r9 = temp_creation_df.append(temp_modification_df)\n",
    "\n",
    "r9.reset_index(drop=True, inplace=True)\n",
    "\n",
    "result_columns=r9.columns.tolist()\n",
    "\n",
    "columns_sort=result_columns[0:3]+result_columns[9:]\n",
    "\n",
    "r9 = r9[columns_sort]\n",
    "\n",
    "# filter out records already identified as weekend modification\n",
    "r9 = r9[~r9.id.isin(r8.id)]"
   ]
  },
  {
   "cell_type": "code",
   "execution_count": 13,
   "metadata": {},
   "outputs": [
    {
     "name": "stdout",
     "output_type": "stream",
     "text": [
      "Wall time: 188 ms\n"
     ]
    }
   ],
   "source": [
    "%%time\n",
    "\n",
    "# PO issued to inactive vendors\n",
    "\n",
    "temp_po_df=po_df.copy()\n",
    "\n",
    "# mapping vendor status to po list\n",
    "vendor_status_dict=vmf_df.set_index('name').to_dict()['vendor_status']\n",
    "\n",
    "temp_po_df['vendor_status']=temp_po_df.vendor_name.map(vendor_status_dict)\n",
    "\n",
    "vmf_df.reset_index(drop=True, inplace=True)\n",
    "\n",
    "r10 = temp_po_df[temp_po_df.vendor_status == 'In-Active'].sort_values(by='po_total', ascending=False)"
   ]
  },
  {
   "cell_type": "code",
   "execution_count": 14,
   "metadata": {},
   "outputs": [
    {
     "name": "stdout",
     "output_type": "stream",
     "text": [
      "Wall time: 157 ms\n"
     ]
    }
   ],
   "source": [
    "%%time\n",
    "\n",
    "# Gaps in vendor id/po number sequential order and duplicate records\n",
    "\n",
    "# building dataframe: vendor records\n",
    "\n",
    "vendor_gaps_df=vmf_df.copy().sort_values(by='id')\n",
    "\n",
    "vendor_gaps_df['start'] = vendor_gaps_df['id']\n",
    "\n",
    "vendor_gaps_df['end'] = vendor_gaps_df['id'].shift(-1)\n",
    "\n",
    "vendor_gaps_df['gap'] = vendor_gaps_df['id'].shift(-1) - vendor_gaps_df['id']\n",
    "\n",
    "\n",
    "# building dataframe: po records\n",
    "\n",
    "po_gaps_df=po_df.copy().sort_values(by='po_number')\n",
    "\n",
    "po_gaps_df['start'] = po_gaps_df['po_number']\n",
    "\n",
    "po_gaps_df['end'] = po_gaps_df['po_number'].shift(-1)\n",
    "\n",
    "po_gaps_df['gap'] = po_gaps_df['po_number'].shift(-1) - po_gaps_df['po_number']\n",
    "\n",
    "\n",
    "# vendor id gaps\n",
    "r11 = vendor_gaps_df[(vendor_gaps_df['gap'] >0) & (vendor_gaps_df['gap'] != 1)]\n",
    "\n",
    "# vendor id duplicates\n",
    "r12 = vendor_gaps_df[(vendor_gaps_df['gap'] == 0)].dropna()\n",
    "\n",
    "# po number gaps\n",
    "r13 = po_gaps_df[(po_gaps_df['gap'] >0) & (po_gaps_df['gap'] != 1)]\n",
    "\n",
    "# po number duplicates\n",
    "r14 = po_gaps_df[(po_gaps_df['gap'] == 0)].dropna()"
   ]
  },
  {
   "cell_type": "code",
   "execution_count": 15,
   "metadata": {},
   "outputs": [
    {
     "name": "stdout",
     "output_type": "stream",
     "text": [
      "matching vendor_phone with match_vendor_phone\n",
      "matching vendor_postal_code with match_vendor_postal_code\n",
      "matching vendor_address with match_vendor_address\n",
      "matching vendor_tin with match_vendor_tin\n",
      "Wall time: 27.3 s\n"
     ]
    }
   ],
   "source": [
    "%%time\n",
    "\n",
    "# similarity across all vendor data\n",
    "# considering only highest possible match\n",
    "\n",
    "temp_vn_df = r1.copy()\n",
    "\n",
    "temp_vn_df = temp_vn_df[temp_vn_df.similarity >= .6]\n",
    "\n",
    "for i, e in zip(*[iter(temp_vn_df.columns[6:])] * 2):\n",
    "    print('matching' + ' ' + i + ' ' + 'with' + ' ' + e)\n",
    "    result = temp_vn_df.apply(similar_with_nan,args=(i,e),axis=1)\n",
    "    temp_vn_df[i] = result\n",
    "    temp_vn_df.drop(columns=e,inplace=True)\n",
    "\n",
    "temp_vn_df['total_similarity_score'] = temp_vn_df['similarity'] + temp_vn_df.iloc[:,-5:-1].sum(axis=1)\n",
    "\n",
    "r15 = temp_vn_df.copy().sort_values(by='total_similarity_score', ascending=False)"
   ]
  },
  {
   "cell_type": "code",
   "execution_count": 16,
   "metadata": {},
   "outputs": [
    {
     "name": "stdout",
     "output_type": "stream",
     "text": [
      "matching employee_phone with vendor_phone\n",
      "matching employee_postal_code with vendor_postal_code\n",
      "matching employee_address with vendor_address\n",
      "matching employee_ssn with vendor_tin\n",
      "Wall time: 808 ms\n"
     ]
    }
   ],
   "source": [
    "%%time\n",
    "\n",
    "# similarity across all active employee vs vendor data\n",
    "# considering only highest possible match\n",
    "\n",
    "temp_emp_df=r2.copy()\n",
    "\n",
    "temp_emp_df=temp_emp_df[temp_emp_df.similarity >= .6]\n",
    "\n",
    "for i, e in zip(*[iter(temp_emp_df.columns[6:])] * 2):\n",
    "    print('matching' + ' ' + i + ' ' + 'with' + ' ' + e)\n",
    "    result=temp_emp_df.apply(similar_with_nan,args=(i,e),axis=1)\n",
    "    temp_emp_df[i]= result\n",
    "    temp_emp_df.drop(columns=e,inplace=True)\n",
    "\n",
    "temp_emp_df['total_similarity_score'] = temp_emp_df['similarity'] + temp_emp_df.iloc[:,-5:-1].sum(axis=1)\n",
    "\n",
    "r16 = temp_emp_df.copy().sort_values(by='total_similarity_score', ascending=False)"
   ]
  },
  {
   "cell_type": "code",
   "execution_count": 17,
   "metadata": {},
   "outputs": [
    {
     "name": "stdout",
     "output_type": "stream",
     "text": [
      "matching employee_phone with vendor_phone\n",
      "matching employee_postal_code with vendor_postal_code\n",
      "matching employee_address with vendor_address\n",
      "matching employee_ssn with vendor_tin\n",
      "Wall time: 742 ms\n"
     ]
    }
   ],
   "source": [
    "%%time\n",
    "\n",
    "# similarity across all terminated employee vs vendor data\n",
    "# considering only highest possible match\n",
    "\n",
    "temp_termin_df=r3.copy()\n",
    "\n",
    "temp_termin_df=temp_termin_df[temp_termin_df.similarity >= .6]\n",
    "\n",
    "for i, e in zip(*[iter(temp_termin_df.columns[6:])] * 2):\n",
    "    print('matching' + ' ' + i + ' ' + 'with' + ' ' + e)\n",
    "    result=temp_termin_df.apply(similar_with_nan,args=(i,e),axis=1)\n",
    "    temp_termin_df[i]= result\n",
    "    temp_termin_df.drop(columns=e,inplace=True)\n",
    "\n",
    "temp_termin_df['total_similarity_score'] = temp_termin_df['similarity'] + temp_termin_df.iloc[:,-5:-1].sum(axis=1)\n",
    "\n",
    "r17 = temp_termin_df.copy().sort_values(by='total_similarity_score', ascending=False)"
   ]
  },
  {
   "cell_type": "code",
   "execution_count": 18,
   "metadata": {},
   "outputs": [
    {
     "name": "stdout",
     "output_type": "stream",
     "text": [
      "Wall time: 451 ms\n"
     ]
    }
   ],
   "source": [
    "%%time\n",
    "\n",
    "# terminated employees with highest number of POs placed after termination date\n",
    "# exact matches are only considered\n",
    "\n",
    "temp_term_df=r5.copy()\n",
    "\n",
    "r18=temp_term_df[(temp_term_df.termination_date) < (temp_term_df.po_date)]\n",
    "\n",
    "# filter for exact matches only\n",
    "\n",
    "fltrd_r18=r18[r18.similarity == 1].copy()\n",
    "\n",
    "earliest_po_date = fltrd_r18.groupby(['employee_id', 'employee_name', 'termination_date'])['po_date'].min().to_frame()\n",
    "\n",
    "po_count_df = fltrd_r18.groupby(['employee_id', 'employee_name', 'termination_date'])['po_number'].count().to_frame()\n",
    "\n",
    "po_value_df = fltrd_r18.groupby(['employee_id', 'employee_name', 'termination_date'])['po_total'].sum().to_frame()\n",
    "\n",
    "df_list = [earliest_po_date, po_count_df, po_value_df, earliest_po_date.index.to_frame()]\n",
    "\n",
    "r18_summary = reduce(lambda  left,right: pd.merge(left,right, left_index=True, right_index=True,\n",
    "                                                 how='outer'), df_list).rename(columns={'po_date' : 'earliest_po_date', \n",
    "                                                                                        'po_number' : 'po_count', \n",
    "                                                                                        'po_total' : 'sum_po_values'})\n",
    "\n",
    "result_columns=r18_summary.columns.tolist()\n",
    "\n",
    "columns_sort=result_columns[3:]+result_columns[0:1]+result_columns[1:3]\n",
    "\n",
    "r18_summary = r18_summary[columns_sort].sort_values(by='sum_po_values', ascending=False)\n",
    "\n",
    "r18_summary.reset_index(drop=True, inplace=True)"
   ]
  },
  {
   "cell_type": "code",
   "execution_count": 19,
   "metadata": {},
   "outputs": [
    {
     "name": "stdout",
     "output_type": "stream",
     "text": [
      "Wall time: 4.39 s\n"
     ]
    },
    {
     "data": {
      "text/plain": [
       "<AxesSubplot:ylabel='missing_records'>"
      ]
     },
     "execution_count": 19,
     "metadata": {},
     "output_type": "execute_result"
    },
    {
     "data": {
      "image/png": "[encoded data removed]",
      "text/plain": [
       "<Figure size 432x288 with 1 Axes>"
      ]
     },
     "metadata": {
      "needs_background": "light"
     },
     "output_type": "display_data"
    }
   ],
   "source": [
    "%%time\n",
    "\n",
    "# missing vendor details\n",
    "\n",
    "missing_details_count = vmf_df.isna().sum()\n",
    "\n",
    "r19 = missing_details_count[missing_details_count > 0].to_frame()\n",
    "\n",
    "r19 = pd.merge(r19.index.to_frame(), r19, left_index=True, right_index=True, \n",
    "               how='left').rename(columns={'0_x':'missing_records', '0_y':'missing_records_count'})\n",
    "\n",
    "r19.reset_index(drop=True, inplace=True)\n",
    "\n",
    "r19.plot(kind='barh', x= 'missing_records', y='missing_records_count', legend=False)"
   ]
  },
  {
   "cell_type": "code",
   "execution_count": 20,
   "metadata": {},
   "outputs": [
    {
     "name": "stdout",
     "output_type": "stream",
     "text": [
      "Wall time: 49 ms\n"
     ]
    }
   ],
   "source": [
    "%%time\n",
    "\n",
    "# summary of po details for inactive vendors \n",
    "\n",
    "temp_po_df= r10.copy()\n",
    "\n",
    "po_count = temp_po_df.groupby('vendor_name')['po_number'].count().to_frame()\n",
    "\n",
    "po_value = temp_po_df.groupby(['vendor_name', 'currency'])['po_total'].sum().to_frame()\n",
    "\n",
    "df_list = [po_value, po_count, po_count.index.to_frame()]\n",
    "\n",
    "r20 = reduce(lambda  left,right: pd.merge(left,right, left_index=True, right_index=True,\n",
    "                                          how='outer'), df_list).rename(columns={'po_number': 'po_count',\n",
    "                                                                                 'po_total': 'sum_po_values'})\n",
    "\n",
    "r20.reset_index(drop=True, inplace=True)\n",
    "\n",
    "result_columns=r20.columns.tolist()\n",
    "\n",
    "columns_sort=result_columns[2:]+result_columns[1:2]+result_columns[0:1]\n",
    "\n",
    "r20 = r20[columns_sort].sort_values(by='sum_po_values', ascending=False)"
   ]
  },
  {
   "cell_type": "code",
   "execution_count": 21,
   "metadata": {},
   "outputs": [
    {
     "name": "stdout",
     "output_type": "stream",
     "text": [
      "Wall time: 275 ms\n"
     ]
    }
   ],
   "source": [
    "%%time\n",
    "\n",
    "# summary of weekend and abnormal working hours modifications \n",
    "\n",
    "# weekends modification\n",
    "\n",
    "if len(weekends) > 1 :\n",
    "    temp_days_creation = r8[(r8.creation_day == weekends[0]) | (r8.creation_day == weekends[1])]\n",
    "\n",
    "    temp_days_modification = r8[(r8.modification_day == weekends[0]) | (r8.modification_day == weekends[1])]\n",
    "else:\n",
    "    temp_days_creation = r8[(r8.creation_day == weekends[0])]\n",
    "\n",
    "    temp_days_modification = r8[(r8.modification_day == weekends[0])]\n",
    "\n",
    "weekends_creation = temp_days_creation.groupby(['creation_user_id'])['creation_day'].count().to_frame()\n",
    "\n",
    "weekends_modification = temp_days_modification.groupby(['modification_user_id'])['modification_day'].count().to_frame()\n",
    "\n",
    "r21 = pd.merge(weekends_creation, weekends_creation.index.to_frame(), left_index=True, \n",
    "               right_index=True, how='left').rename(columns={'creation_day': 'created_records_count'})\n",
    "\n",
    "r22 = pd.merge(weekends_modification, weekends_modification.index.to_frame(), left_index=True, \n",
    "               right_index=True, how='left').rename(columns={'modification_day': 'modified_records_count'})\n",
    "\n",
    "r21['user_authorized'] = r21.creation_user_id.isin(access_rights_df.creation_user_id)\n",
    "\n",
    "r22['user_authorized'] = r22.modification_user_id.isin(access_rights_df.modification_user_id)\n",
    "\n",
    "result_columns=r21.columns.tolist()\n",
    "\n",
    "columns_sort=result_columns[1:2]+result_columns[0:1]+result_columns[2:]\n",
    "\n",
    "r21 = r21[columns_sort].sort_values(by='created_records_count', ascending = False)\n",
    "\n",
    "result_columns=r22.columns.tolist()\n",
    "\n",
    "columns_sort=result_columns[1:2]+result_columns[0:1]+result_columns[2:]\n",
    "\n",
    "r22 = r22[columns_sort].sort_values(by='modified_records_count', ascending = False)\n",
    "\n",
    "r21.reset_index(drop=True, inplace=True)\n",
    "r22.reset_index(drop=True, inplace=True)\n",
    "\n",
    "r23 = pd.merge(r21,r22, left_index=True, right_index=True, \n",
    "            how='outer').rename(columns={'user_authorized_x': 'creation_user_authorized',\n",
    "                                         'user_authorized_y' : 'modification_user_authorized'})"
   ]
  },
  {
   "cell_type": "code",
   "execution_count": 22,
   "metadata": {},
   "outputs": [
    {
     "name": "stdout",
     "output_type": "stream",
     "text": [
      "Wall time: 84 ms\n"
     ]
    }
   ],
   "source": [
    "%%time\n",
    "\n",
    "# summary abnormal working hours modification\n",
    "\n",
    "abnormal_creation = temp_creation_df.groupby(['creation_user_id'])['creation_hour'].count().to_frame()\n",
    "abnormal_modification = temp_modification_df.groupby(['modification_user_id'])['modification_hour'].count().to_frame()\n",
    "\n",
    "r24 = pd.merge(abnormal_creation, abnormal_creation.index.to_frame(), left_index=True, \n",
    "               right_index=True, how='left').rename(columns={'creation_hour': 'created_records_count'})\n",
    "\n",
    "r25 = pd.merge(abnormal_modification, abnormal_modification.index.to_frame(), left_index=True, \n",
    "               right_index=True, how='left').rename(columns={'modification_hour': 'modified_records_count'})\n",
    "\n",
    "r24['user_authorized'] = r24.creation_user_id.isin(access_rights_df.creation_user_id)\n",
    "\n",
    "r25['user_authorized'] = r25.modification_user_id.isin(access_rights_df.modification_user_id)\n",
    "\n",
    "result_columns=r24.columns.tolist()\n",
    "\n",
    "columns_sort=result_columns[1:2]+result_columns[0:1]+result_columns[2:]\n",
    "\n",
    "r24 = r24[columns_sort].sort_values(by='created_records_count', ascending = False)\n",
    "\n",
    "result_columns=r25.columns.tolist()\n",
    "\n",
    "columns_sort=result_columns[1:2]+result_columns[0:1]+result_columns[2:]\n",
    "\n",
    "r25 = r25[columns_sort].sort_values(by='modified_records_count', ascending = False)\n",
    "\n",
    "r24.reset_index(drop=True, inplace=True)\n",
    "r25.reset_index(drop=True, inplace=True)\n",
    "\n",
    "r26 = pd.merge(r24,r25, left_index=True, right_index=True, \n",
    "            how='outer').rename(columns={'user_authorized_x': 'creation_user_authorized',\n",
    "                                         'user_authorized_y' : 'modification_user_authorized'})"
   ]
  },
  {
   "cell_type": "code",
   "execution_count": 23,
   "metadata": {},
   "outputs": [
    {
     "name": "stdout",
     "output_type": "stream",
     "text": [
      "Wall time: 456 ms\n"
     ]
    }
   ],
   "source": [
    "%%time\n",
    "\n",
    "# summary of modification by period\n",
    "\n",
    "temp_period_df = vmf_df.copy()\n",
    "\n",
    "creation = temp_period_df.groupby(['creation_date'])['creation_date'].count().resample('1y').sum().to_frame()\n",
    "\n",
    "modification = temp_period_df.groupby(['modification_date'])['modification_date'].count().resample('1y').sum().to_frame()\n",
    "\n",
    "creation = creation[creation.creation_date > 0]\n",
    "\n",
    "modification = modification[modification.modification_date > 0]\n",
    "\n",
    "r27 = pd.merge(creation, modification, left_index=True, right_index=True, how='outer')\n",
    "\n",
    "r27 = pd.merge(r27.index.to_frame(), r27, left_index=True, right_index=True, how='outer')\n",
    "\n",
    "r27.rename(columns={0: 'period', 'creation_date' : 'created_records_count', \n",
    "                    'modification_date' : 'modified_records_count'}, inplace=True)\n",
    "\n",
    "r27.reset_index(drop=True, inplace=True)\n",
    "\n",
    "r27= r27[(r27.created_records_count >= 0) | (r27.modified_records_count >= 0)]"
   ]
  },
  {
   "cell_type": "code",
   "execution_count": 24,
   "metadata": {},
   "outputs": [
    {
     "name": "stdout",
     "output_type": "stream",
     "text": [
      "Wall time: 14 ms\n"
     ]
    }
   ],
   "source": [
    "%%time\n",
    "\n",
    "# summary of similarity across all vendor data,\n",
    "# only exact and highest total similarities are considered,\n",
    "# score of 2 and above provided best result filter.\n",
    "\n",
    "r28 = r15[r15.total_similarity_score >= 2]\n",
    "\n",
    "r28 = r28[r28.columns[0:4]]\n",
    "\n",
    "r28.reset_index(drop=True, inplace=True)"
   ]
  },
  {
   "cell_type": "code",
   "execution_count": 25,
   "metadata": {},
   "outputs": [
    {
     "name": "stdout",
     "output_type": "stream",
     "text": [
      "Wall time: 37 ms\n"
     ]
    }
   ],
   "source": [
    "%%time\n",
    "\n",
    "# summary of similarity across all active employee vs vendor data,\n",
    "# only exact and highest total similarities are considered,\n",
    "# score of 1.5 and above provided best result filter.\n",
    "\n",
    "r29 = r16[(r16.similarity == 1) | (r16.total_similarity_score >= 1.5)]\n",
    "\n",
    "r29 = r29[r29.columns[0:4]]\n",
    "\n",
    "r29.reset_index(drop=True, inplace=True)"
   ]
  },
  {
   "cell_type": "code",
   "execution_count": 26,
   "metadata": {},
   "outputs": [
    {
     "name": "stdout",
     "output_type": "stream",
     "text": [
      "Wall time: 11 ms\n"
     ]
    }
   ],
   "source": [
    "%%time\n",
    "\n",
    "# summary of similarity across all terminated employee vs vendor data, \n",
    "# only exact and highest total similarities are considered,\n",
    "# score of 1.5 and above provided best result filter.\n",
    "\n",
    "r30 = r17[(r17.similarity == 1) | (r17.total_similarity_score >= 1.5)]\n",
    "\n",
    "r30 = r30[r30.columns[0:4]]\n",
    "\n",
    "r30.reset_index(drop=True, inplace=True)"
   ]
  },
  {
   "cell_type": "code",
   "execution_count": 27,
   "metadata": {},
   "outputs": [],
   "source": [
    "%%time\n",
    "\n",
    "# Saving Results\n",
    "\n",
    "writer = pd.ExcelWriter('VMF_Analysed.xlsx', engine='xlsxwriter')\n",
    "\n",
    "workbook = writer.book\n",
    "\n",
    "worksheet = workbook.add_worksheet('summary_tables')\n",
    "\n",
    "writer.sheets['summary_tables'] = worksheet\n",
    "\n",
    "worksheet.hide_gridlines(2)\n",
    "\n",
    "form = workbook.add_format()\n",
    "\n",
    "form.set_align('center')\n",
    "\n",
    "form.set_align('vcenter')\n",
    "\n",
    "worksheet.set_column('A:G', 30, form)\n",
    "\n",
    "chart = workbook.add_chart({'type': 'column'})\n",
    "\n",
    "# Configure the series of the chart from the dataframe data.\n",
    "chart.add_series({'categories': '=summary_tables!$A$3:$A$7',\n",
    "                  'values': '=summary_tables!$B$3:$B$7',\n",
    "                  'fill':   {'color': 'brown'},\n",
    "                  'line': {'color': 'black'}})\n",
    "\n",
    "# Insert the chart into the worksheet.\n",
    "worksheet.insert_chart('C1', chart, {'x_scale': 1, 'y_scale': .5, 'x_offset': 25, 'y_offset': 10})\n",
    "\n",
    "chart.set_legend({'position': 'none'})\n",
    "\n",
    "# Configure the chart axes.\n",
    "chart.set_x_axis({'name': 'Missing Data'})\n",
    "chart.set_y_axis({'name': 'Count', 'major_gridlines': {'visible': False}})\n",
    "\n",
    "worksheet.write(0, 0, 'Missing_vendor details')\n",
    "\n",
    "r19.to_excel(writer, sheet_name = 'summary_tables', startrow=1 , startcol=0, index = False)\n",
    "\n",
    "worksheet.write(r19.shape[0] + 3, 0, 'summary of vendors having highest similarities across all records')\n",
    "\n",
    "r28.to_excel(writer, sheet_name = 'summary_tables', startrow= r19.shape[0] + 4 , startcol=0, index = False)\n",
    "\n",
    "worksheet.write(r19.shape[0] + 3 + r28.shape[0] + 3, 0, \n",
    "                'summary of active employees and vendors having highest similarities across all records')\n",
    "\n",
    "r29.to_excel(writer, sheet_name = 'summary_tables', startrow= r19.shape[0] + 3 + r28.shape[0] + 4 , startcol=0, \n",
    "             index = False)\n",
    "\n",
    "worksheet.write(r19.shape[0] + 3 + r28.shape[0] + 3 + r29.shape[0] + 3, 0, \n",
    "                'summary of terminated employees and vendors having highest similarities across all records')\n",
    "\n",
    "r30.to_excel(writer, sheet_name = 'summary_tables', startrow= r19.shape[0] + 3 + r28.shape[0] + 3 + r29.shape[0] + 4 , \n",
    "             startcol=0, index = False)\n",
    "\n",
    "worksheet.write(r19.shape[0] + 3 + r28.shape[0] + 3 + r29.shape[0] + 3 + r30.shape[0] + 3, 0, \n",
    "                'Issued POs after employee termination date, only exact name matches are considered')\n",
    "\n",
    "r18_summary.to_excel(writer, sheet_name = 'summary_tables', startrow= r19.shape[0] + 3 + r28.shape[0] + 3 + r29.shape[0] \n",
    "                     + 3 + r30.shape[0] + 4, startcol=0, index = False)\n",
    "\n",
    "worksheet.write(r19.shape[0] + 3 + r28.shape[0] + 3 + r29.shape[0] + 3 + r30.shape[0] + 3 + r18_summary.shape[0] + 3, 0, \n",
    "                'Issued POs for inactive vendor')\n",
    "\n",
    "r20.to_excel(writer, sheet_name = 'summary_tables', startrow= r19.shape[0] + 3 + r28.shape[0] + 3 + r29.shape[0] + 3 \n",
    "             + r30.shape[0] + 3 + r18_summary.shape[0] + 4 , startcol=0, index = False)\n",
    "\n",
    "worksheet.write(r19.shape[0] + 3 + r28.shape[0] + 3 + r29.shape[0] + 3 + r30.shape[0] + 3 + r18_summary.shape[0] + 3 \n",
    "                + r20.shape[0] + 3, 0, 'Vendor records creation/modification on weekends')\n",
    "\n",
    "r23.to_excel(writer, sheet_name = 'summary_tables', startrow= r19.shape[0] + 3 + r28.shape[0] + 3 + r29.shape[0] + 3 \n",
    "             + r30.shape[0] + 3 + r18_summary.shape[0] + 3 + r20.shape[0] + 4 , startcol=0, index = False)\n",
    "\n",
    "worksheet.write(r19.shape[0] + 3 + r28.shape[0] + 3 + r29.shape[0] + 3 + r30.shape[0] + 3 + r18_summary.shape[0] + 3 \n",
    "                + r20.shape[0] + 3 + r23.shape[0] + 3, 0, 'Vendor records creation/modification at abnormal working hours')\n",
    "\n",
    "r26.to_excel(writer, sheet_name = 'summary_tables', startrow= r19.shape[0] + 3 + r28.shape[0] + 3 + r29.shape[0] + 3 \n",
    "             + r30.shape[0] + 3 + r18_summary.shape[0] + 3 + r20.shape[0] + 3 + r23.shape[0] + 4 , startcol=0, \n",
    "             index = False)\n",
    "\n",
    "worksheet.write(r19.shape[0] + 3 + r28.shape[0] + 3 + r29.shape[0] + 3 + r30.shape[0] + 3 + r18_summary.shape[0] + 3 \n",
    "                + r20.shape[0] + 3 + r23.shape[0] + 3 + r26.shape[0] + 3, 0, \n",
    "                ' Summary of vendor records creation/modification by period')\n",
    "\n",
    "r27.to_excel(writer, sheet_name = 'summary_tables', startrow= r19.shape[0] + 3 + r28.shape[0] + 3 + r29.shape[0] + 3 \n",
    "             + r30.shape[0] + 3 + r18_summary.shape[0] + 3 + r20.shape[0] + 3 + r23.shape[0] + 3 + r26.shape[0] + 4 , \n",
    "             startcol=0, index = False)\n",
    "\n",
    "r1.to_excel(writer, sheet_name = 'vendor_name_match', index = False)\n",
    "\n",
    "r2.to_excel(writer, sheet_name = 'active_emp_vs_ven_name_match', index = False)\n",
    "\n",
    "r3.to_excel(writer, sheet_name = 'term_emp_vs_ven_name_match', index = False)\n",
    "\n",
    "r4.to_excel(writer, sheet_name = 'non_english_ven_names', index = False)\n",
    "\n",
    "r5.to_excel(writer, sheet_name = 'po_to_employees', index = False)\n",
    "\n",
    "r6.to_excel(writer, sheet_name = 'unauthorized_access', index = False)\n",
    "\n",
    "r7.to_excel(writer, sheet_name = 'employees_editing_own_records', index = False)\n",
    "\n",
    "r8.to_excel(writer, sheet_name = 'weekend_modifications', index = False)\n",
    "\n",
    "r9.to_excel(writer, sheet_name = 'abnormal_hours_modifications', index = False)\n",
    "\n",
    "r10.to_excel(writer, sheet_name = 'po_for_inactive_vendors', index = False)\n",
    "\n",
    "r11.to_excel(writer, sheet_name = 'gabs_vendor_id', index = False)\n",
    "\n",
    "r12.to_excel(writer, sheet_name = 'duplicate_vendor_id', index = False)\n",
    "\n",
    "r13.to_excel(writer, sheet_name = 'gabs_po_number', index = False)\n",
    "\n",
    "r14.to_excel(writer, sheet_name = 'duplicate_po_number', index = False)\n",
    "\n",
    "r15.to_excel(writer, sheet_name = 'similarity_all_vendor_details', index = False)\n",
    "\n",
    "r16.to_excel(writer, sheet_name = 'similarity_all_emp_ven_details', index = False)\n",
    "\n",
    "r17.to_excel(writer, sheet_name = 'similarity_all_term_ven_details', index = False)\n",
    "\n",
    "r18.to_excel(writer, sheet_name = 'po_date_after_emp_term_date', index = False)\n",
    "\n",
    "writer.save()"
   ]
  }
 ],
 "metadata": {
  "kernelspec": {
   "display_name": "Python 3",
   "language": "python",
   "name": "python3"
  },
  "language_info": {
   "codemirror_mode": {
    "name": "ipython",
    "version": 3
   },
   "file_extension": ".py",
   "mimetype": "text/x-python",
   "name": "python",
   "nbconvert_exporter": "python",
   "pygments_lexer": "ipython3",
   "version": "3.8.5"
  }
 },
 "nbformat": 4,
 "nbformat_minor": 5
}
